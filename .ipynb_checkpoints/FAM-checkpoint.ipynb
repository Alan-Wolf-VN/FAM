{
 "cells": [
  {
   "cell_type": "markdown",
   "id": "51e2cd17",
   "metadata": {},
   "source": [
    "# 1. Import data"
   ]
  },
  {
   "cell_type": "code",
   "execution_count": 1,
   "id": "03694440",
   "metadata": {},
   "outputs": [],
   "source": [
    "import pandas as pd\n",
    "import numpy as np\n",
    "import pyomo.environ as pyo\n",
    "from pyomo.environ import *\n",
    "from pyomo.opt import SolverFactory"
   ]
  },
  {
   "cell_type": "code",
   "execution_count": 2,
   "id": "4872cc54",
   "metadata": {},
   "outputs": [],
   "source": [
    "data = pd.read_excel('data.xlsx')"
   ]
  },
  {
   "cell_type": "code",
   "execution_count": 3,
   "id": "64eeef86",
   "metadata": {},
   "outputs": [
    {
     "data": {
      "text/html": [
       "<div>\n",
       "<style scoped>\n",
       "    .dataframe tbody tr th:only-of-type {\n",
       "        vertical-align: middle;\n",
       "    }\n",
       "\n",
       "    .dataframe tbody tr th {\n",
       "        vertical-align: top;\n",
       "    }\n",
       "\n",
       "    .dataframe thead th {\n",
       "        text-align: right;\n",
       "    }\n",
       "</style>\n",
       "<table border=\"1\" class=\"dataframe\">\n",
       "  <thead>\n",
       "    <tr style=\"text-align: right;\">\n",
       "      <th></th>\n",
       "      <th>sector</th>\n",
       "      <th>from</th>\n",
       "      <th>to</th>\n",
       "      <th>flight</th>\n",
       "      <th>AC</th>\n",
       "      <th>DOW</th>\n",
       "      <th>ETD</th>\n",
       "      <th>ETA</th>\n",
       "    </tr>\n",
       "  </thead>\n",
       "  <tbody>\n",
       "    <tr>\n",
       "      <th>0</th>\n",
       "      <td>VKGSGN</td>\n",
       "      <td>VKG</td>\n",
       "      <td>SGN</td>\n",
       "      <td>0V8002</td>\n",
       "      <td>AT7</td>\n",
       "      <td>1</td>\n",
       "      <td>7.083333</td>\n",
       "      <td>8.000000</td>\n",
       "    </tr>\n",
       "    <tr>\n",
       "      <th>1</th>\n",
       "      <td>SGNVKG</td>\n",
       "      <td>SGN</td>\n",
       "      <td>VKG</td>\n",
       "      <td>0V8003</td>\n",
       "      <td>AT7</td>\n",
       "      <td>1</td>\n",
       "      <td>5.916667</td>\n",
       "      <td>6.750000</td>\n",
       "    </tr>\n",
       "    <tr>\n",
       "      <th>2</th>\n",
       "      <td>VCAPQC</td>\n",
       "      <td>VCA</td>\n",
       "      <td>PQC</td>\n",
       "      <td>0V8014</td>\n",
       "      <td>AT7</td>\n",
       "      <td>1</td>\n",
       "      <td>11.750000</td>\n",
       "      <td>12.666667</td>\n",
       "    </tr>\n",
       "    <tr>\n",
       "      <th>3</th>\n",
       "      <td>PQCVCA</td>\n",
       "      <td>PQC</td>\n",
       "      <td>VCA</td>\n",
       "      <td>0V8015</td>\n",
       "      <td>AT7</td>\n",
       "      <td>1</td>\n",
       "      <td>13.166667</td>\n",
       "      <td>14.083333</td>\n",
       "    </tr>\n",
       "    <tr>\n",
       "      <th>4</th>\n",
       "      <td>VCSSGN</td>\n",
       "      <td>VCS</td>\n",
       "      <td>SGN</td>\n",
       "      <td>0V8050</td>\n",
       "      <td>AT7</td>\n",
       "      <td>1</td>\n",
       "      <td>7.250000</td>\n",
       "      <td>8.333333</td>\n",
       "    </tr>\n",
       "    <tr>\n",
       "      <th>...</th>\n",
       "      <td>...</td>\n",
       "      <td>...</td>\n",
       "      <td>...</td>\n",
       "      <td>...</td>\n",
       "      <td>...</td>\n",
       "      <td>...</td>\n",
       "      <td>...</td>\n",
       "      <td>...</td>\n",
       "    </tr>\n",
       "    <tr>\n",
       "      <th>261</th>\n",
       "      <td>DINHAN</td>\n",
       "      <td>DIN</td>\n",
       "      <td>HAN</td>\n",
       "      <td>0V8205</td>\n",
       "      <td>AT7</td>\n",
       "      <td>7</td>\n",
       "      <td>15.500000</td>\n",
       "      <td>16.500000</td>\n",
       "    </tr>\n",
       "    <tr>\n",
       "      <th>262</th>\n",
       "      <td>VIIHAN</td>\n",
       "      <td>VII</td>\n",
       "      <td>HAN</td>\n",
       "      <td>0V8312</td>\n",
       "      <td>AT7</td>\n",
       "      <td>7</td>\n",
       "      <td>9.333333</td>\n",
       "      <td>10.333333</td>\n",
       "    </tr>\n",
       "    <tr>\n",
       "      <th>263</th>\n",
       "      <td>HANVII</td>\n",
       "      <td>HAN</td>\n",
       "      <td>VII</td>\n",
       "      <td>0V8313</td>\n",
       "      <td>AT7</td>\n",
       "      <td>7</td>\n",
       "      <td>8.000000</td>\n",
       "      <td>9.000000</td>\n",
       "    </tr>\n",
       "    <tr>\n",
       "      <th>264</th>\n",
       "      <td>VDHHAN</td>\n",
       "      <td>VDH</td>\n",
       "      <td>HAN</td>\n",
       "      <td>0V8592</td>\n",
       "      <td>AT7</td>\n",
       "      <td>7</td>\n",
       "      <td>19.166667</td>\n",
       "      <td>20.500000</td>\n",
       "    </tr>\n",
       "    <tr>\n",
       "      <th>265</th>\n",
       "      <td>HANVDH</td>\n",
       "      <td>HAN</td>\n",
       "      <td>VDH</td>\n",
       "      <td>0V8593</td>\n",
       "      <td>AT7</td>\n",
       "      <td>7</td>\n",
       "      <td>17.333333</td>\n",
       "      <td>18.833333</td>\n",
       "    </tr>\n",
       "  </tbody>\n",
       "</table>\n",
       "<p>266 rows × 8 columns</p>\n",
       "</div>"
      ],
      "text/plain": [
       "     sector from   to  flight   AC  DOW        ETD        ETA\n",
       "0    VKGSGN  VKG  SGN  0V8002  AT7    1   7.083333   8.000000\n",
       "1    SGNVKG  SGN  VKG  0V8003  AT7    1   5.916667   6.750000\n",
       "2    VCAPQC  VCA  PQC  0V8014  AT7    1  11.750000  12.666667\n",
       "3    PQCVCA  PQC  VCA  0V8015  AT7    1  13.166667  14.083333\n",
       "4    VCSSGN  VCS  SGN  0V8050  AT7    1   7.250000   8.333333\n",
       "..      ...  ...  ...     ...  ...  ...        ...        ...\n",
       "261  DINHAN  DIN  HAN  0V8205  AT7    7  15.500000  16.500000\n",
       "262  VIIHAN  VII  HAN  0V8312  AT7    7   9.333333  10.333333\n",
       "263  HANVII  HAN  VII  0V8313  AT7    7   8.000000   9.000000\n",
       "264  VDHHAN  VDH  HAN  0V8592  AT7    7  19.166667  20.500000\n",
       "265  HANVDH  HAN  VDH  0V8593  AT7    7  17.333333  18.833333\n",
       "\n",
       "[266 rows x 8 columns]"
      ]
     },
     "execution_count": 3,
     "metadata": {},
     "output_type": "execute_result"
    }
   ],
   "source": [
    "data"
   ]
  },
  {
   "cell_type": "markdown",
   "id": "61bdc578",
   "metadata": {},
   "source": [
    "# 2. Sets"
   ]
  },
  {
   "cell_type": "code",
   "execution_count": 4,
   "id": "6e40c663",
   "metadata": {},
   "outputs": [],
   "source": [
    "model = pyo.ConcreteModel()"
   ]
  },
  {
   "cell_type": "code",
   "execution_count": 5,
   "id": "959383ce",
   "metadata": {},
   "outputs": [],
   "source": [
    "# create set of sector\n",
    "# note: lam the nao de biet chuyen chieu di nao tuong ung voi chuyen chieu ve? co can tuong ung ko?\n",
    "model.sector = pyo.Set(initialize = data['sector'].unique())\n",
    "sector = model.sector"
   ]
  },
  {
   "cell_type": "code",
   "execution_count": 6,
   "id": "63035c95",
   "metadata": {},
   "outputs": [],
   "source": [
    "# create set of aircraft type\n",
    "model.ac = pyo.Set(initialize = data['AC'].unique())\n",
    "ac = model.ac"
   ]
  },
  {
   "cell_type": "code",
   "execution_count": 7,
   "id": "fb2d87dc",
   "metadata": {},
   "outputs": [],
   "source": [
    "# create set of flight\n",
    "model.flight_no = pyo.Set(initialize = data['flight'].unique())\n",
    "flight_no = model.flight_no"
   ]
  },
  {
   "cell_type": "code",
   "execution_count": 8,
   "id": "c8cfd7c7",
   "metadata": {},
   "outputs": [],
   "source": [
    "# create set of DOW\n",
    "model.DOW = pyo.Set(initialize = range(1,8), domain = PositiveIntegers)\n",
    "DOW = model.DOW"
   ]
  },
  {
   "cell_type": "code",
   "execution_count": 9,
   "id": "68501b60",
   "metadata": {},
   "outputs": [],
   "source": [
    "# create set of hour\n",
    "model.hour = pyo.Set(initialize = range(0,24), domain = NonNegativeIntegers)\n",
    "hour = model.hour"
   ]
  },
  {
   "cell_type": "code",
   "execution_count": 10,
   "id": "506a33a5",
   "metadata": {},
   "outputs": [],
   "source": [
    "# create set of airport\n",
    "airport_from = data['from'].unique()\n",
    "airport_to = data['to'].unique()\n",
    "airport_set = set(np.concatenate((airport_from,airport_to)))\n",
    "model.airport = pyo.Set(initialize = airport_set, ordered = False)\n",
    "airport = model.airport"
   ]
  },
  {
   "cell_type": "markdown",
   "id": "14265806",
   "metadata": {},
   "source": [
    "# 3. Parameters"
   ]
  },
  {
   "cell_type": "code",
   "execution_count": null,
   "id": "ac3e095a",
   "metadata": {},
   "outputs": [],
   "source": []
  },
  {
   "cell_type": "markdown",
   "id": "3769d202",
   "metadata": {},
   "source": [
    "# 4. Variables"
   ]
  },
  {
   "cell_type": "code",
   "execution_count": null,
   "id": "2bcab95c",
   "metadata": {},
   "outputs": [],
   "source": []
  }
 ],
 "metadata": {
  "kernelspec": {
   "display_name": "Python 3 (ipykernel)",
   "language": "python",
   "name": "python3"
  },
  "language_info": {
   "codemirror_mode": {
    "name": "ipython",
    "version": 3
   },
   "file_extension": ".py",
   "mimetype": "text/x-python",
   "name": "python",
   "nbconvert_exporter": "python",
   "pygments_lexer": "ipython3",
   "version": "3.9.12"
  }
 },
 "nbformat": 4,
 "nbformat_minor": 5
}
