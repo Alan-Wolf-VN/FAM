{
 "cells": [
  {
   "cell_type": "markdown",
   "id": "51e2cd17",
   "metadata": {},
   "source": [
    "# 1. Import data"
   ]
  },
  {
   "cell_type": "code",
   "execution_count": 1,
   "id": "03694440",
   "metadata": {},
   "outputs": [],
   "source": [
    "import pandas as pd\n",
    "import numpy as np\n",
    "import pyomo.environ as pyo\n",
    "from pyomo.environ import *\n",
    "from pyomo.opt import SolverFactory\n",
    "from pyomo.opt import SolverStatus, TerminationCondition"
   ]
  },
  {
   "cell_type": "code",
   "execution_count": 2,
   "id": "4872cc54",
   "metadata": {},
   "outputs": [],
   "source": [
    "data = pd.read_excel('data.xlsx')"
   ]
  },
  {
   "cell_type": "code",
   "execution_count": 3,
   "id": "64eeef86",
   "metadata": {},
   "outputs": [
    {
     "data": {
      "text/html": [
       "<div>\n",
       "<style scoped>\n",
       "    .dataframe tbody tr th:only-of-type {\n",
       "        vertical-align: middle;\n",
       "    }\n",
       "\n",
       "    .dataframe tbody tr th {\n",
       "        vertical-align: top;\n",
       "    }\n",
       "\n",
       "    .dataframe thead th {\n",
       "        text-align: right;\n",
       "    }\n",
       "</style>\n",
       "<table border=\"1\" class=\"dataframe\">\n",
       "  <thead>\n",
       "    <tr style=\"text-align: right;\">\n",
       "      <th></th>\n",
       "      <th>index</th>\n",
       "      <th>sector</th>\n",
       "      <th>from</th>\n",
       "      <th>to</th>\n",
       "      <th>flight</th>\n",
       "      <th>DOW_ETD</th>\n",
       "      <th>ETD</th>\n",
       "      <th>DOW_ETA</th>\n",
       "      <th>ETA</th>\n",
       "      <th>AC</th>\n",
       "      <th>revenue</th>\n",
       "      <th>cost</th>\n",
       "    </tr>\n",
       "  </thead>\n",
       "  <tbody>\n",
       "    <tr>\n",
       "      <th>0</th>\n",
       "      <td>BKKSGNVN600A3211</td>\n",
       "      <td>BKKSGN</td>\n",
       "      <td>BKK</td>\n",
       "      <td>SGN</td>\n",
       "      <td>VN600</td>\n",
       "      <td>1</td>\n",
       "      <td>4.333333</td>\n",
       "      <td>1</td>\n",
       "      <td>6.166667</td>\n",
       "      <td>A321</td>\n",
       "      <td>349.09</td>\n",
       "      <td>290.57</td>\n",
       "    </tr>\n",
       "    <tr>\n",
       "      <th>1</th>\n",
       "      <td>BKKSGNVN600A3212</td>\n",
       "      <td>BKKSGN</td>\n",
       "      <td>BKK</td>\n",
       "      <td>SGN</td>\n",
       "      <td>VN600</td>\n",
       "      <td>2</td>\n",
       "      <td>4.333333</td>\n",
       "      <td>2</td>\n",
       "      <td>6.166667</td>\n",
       "      <td>A321</td>\n",
       "      <td>349.09</td>\n",
       "      <td>290.57</td>\n",
       "    </tr>\n",
       "    <tr>\n",
       "      <th>2</th>\n",
       "      <td>BKKSGNVN600A3213</td>\n",
       "      <td>BKKSGN</td>\n",
       "      <td>BKK</td>\n",
       "      <td>SGN</td>\n",
       "      <td>VN600</td>\n",
       "      <td>3</td>\n",
       "      <td>4.333333</td>\n",
       "      <td>3</td>\n",
       "      <td>6.166667</td>\n",
       "      <td>A321</td>\n",
       "      <td>349.09</td>\n",
       "      <td>290.57</td>\n",
       "    </tr>\n",
       "    <tr>\n",
       "      <th>3</th>\n",
       "      <td>BKKSGNVN600A3214</td>\n",
       "      <td>BKKSGN</td>\n",
       "      <td>BKK</td>\n",
       "      <td>SGN</td>\n",
       "      <td>VN600</td>\n",
       "      <td>4</td>\n",
       "      <td>4.333333</td>\n",
       "      <td>4</td>\n",
       "      <td>6.000000</td>\n",
       "      <td>A321</td>\n",
       "      <td>349.09</td>\n",
       "      <td>290.57</td>\n",
       "    </tr>\n",
       "    <tr>\n",
       "      <th>4</th>\n",
       "      <td>BKKSGNVN600A3215</td>\n",
       "      <td>BKKSGN</td>\n",
       "      <td>BKK</td>\n",
       "      <td>SGN</td>\n",
       "      <td>VN600</td>\n",
       "      <td>5</td>\n",
       "      <td>4.333333</td>\n",
       "      <td>5</td>\n",
       "      <td>6.000000</td>\n",
       "      <td>A321</td>\n",
       "      <td>349.09</td>\n",
       "      <td>290.57</td>\n",
       "    </tr>\n",
       "    <tr>\n",
       "      <th>...</th>\n",
       "      <td>...</td>\n",
       "      <td>...</td>\n",
       "      <td>...</td>\n",
       "      <td>...</td>\n",
       "      <td>...</td>\n",
       "      <td>...</td>\n",
       "      <td>...</td>\n",
       "      <td>...</td>\n",
       "      <td>...</td>\n",
       "      <td>...</td>\n",
       "      <td>...</td>\n",
       "      <td>...</td>\n",
       "    </tr>\n",
       "    <tr>\n",
       "      <th>8124</th>\n",
       "      <td>VTEPNHVN921B7874</td>\n",
       "      <td>VTEPNH</td>\n",
       "      <td>VTE</td>\n",
       "      <td>PNH</td>\n",
       "      <td>VN921</td>\n",
       "      <td>4</td>\n",
       "      <td>5.166667</td>\n",
       "      <td>4</td>\n",
       "      <td>6.583333</td>\n",
       "      <td>B787</td>\n",
       "      <td>535.41</td>\n",
       "      <td>445.50</td>\n",
       "    </tr>\n",
       "    <tr>\n",
       "      <th>8125</th>\n",
       "      <td>VTEPNHVN921B7875</td>\n",
       "      <td>VTEPNH</td>\n",
       "      <td>VTE</td>\n",
       "      <td>PNH</td>\n",
       "      <td>VN921</td>\n",
       "      <td>5</td>\n",
       "      <td>5.166667</td>\n",
       "      <td>5</td>\n",
       "      <td>6.583333</td>\n",
       "      <td>B787</td>\n",
       "      <td>535.41</td>\n",
       "      <td>445.50</td>\n",
       "    </tr>\n",
       "    <tr>\n",
       "      <th>8126</th>\n",
       "      <td>VTEPNHVN921B7876</td>\n",
       "      <td>VTEPNH</td>\n",
       "      <td>VTE</td>\n",
       "      <td>PNH</td>\n",
       "      <td>VN921</td>\n",
       "      <td>6</td>\n",
       "      <td>5.166667</td>\n",
       "      <td>6</td>\n",
       "      <td>6.583333</td>\n",
       "      <td>B787</td>\n",
       "      <td>535.41</td>\n",
       "      <td>445.50</td>\n",
       "    </tr>\n",
       "    <tr>\n",
       "      <th>8127</th>\n",
       "      <td>VTEPNHVN921B7877</td>\n",
       "      <td>VTEPNH</td>\n",
       "      <td>VTE</td>\n",
       "      <td>PNH</td>\n",
       "      <td>VN921</td>\n",
       "      <td>7</td>\n",
       "      <td>5.416667</td>\n",
       "      <td>7</td>\n",
       "      <td>6.666667</td>\n",
       "      <td>B787</td>\n",
       "      <td>535.41</td>\n",
       "      <td>445.50</td>\n",
       "    </tr>\n",
       "    <tr>\n",
       "      <th>8128</th>\n",
       "      <td>YIHCXRVN697B7872</td>\n",
       "      <td>YIHCXR</td>\n",
       "      <td>YIH</td>\n",
       "      <td>CXR</td>\n",
       "      <td>VN697</td>\n",
       "      <td>2</td>\n",
       "      <td>4.000000</td>\n",
       "      <td>2</td>\n",
       "      <td>7.666667</td>\n",
       "      <td>B787</td>\n",
       "      <td>682.50</td>\n",
       "      <td>588.92</td>\n",
       "    </tr>\n",
       "  </tbody>\n",
       "</table>\n",
       "<p>8129 rows × 12 columns</p>\n",
       "</div>"
      ],
      "text/plain": [
       "                 index  sector from   to flight  DOW_ETD       ETD  DOW_ETA  \\\n",
       "0     BKKSGNVN600A3211  BKKSGN  BKK  SGN  VN600        1  4.333333        1   \n",
       "1     BKKSGNVN600A3212  BKKSGN  BKK  SGN  VN600        2  4.333333        2   \n",
       "2     BKKSGNVN600A3213  BKKSGN  BKK  SGN  VN600        3  4.333333        3   \n",
       "3     BKKSGNVN600A3214  BKKSGN  BKK  SGN  VN600        4  4.333333        4   \n",
       "4     BKKSGNVN600A3215  BKKSGN  BKK  SGN  VN600        5  4.333333        5   \n",
       "...                ...     ...  ...  ...    ...      ...       ...      ...   \n",
       "8124  VTEPNHVN921B7874  VTEPNH  VTE  PNH  VN921        4  5.166667        4   \n",
       "8125  VTEPNHVN921B7875  VTEPNH  VTE  PNH  VN921        5  5.166667        5   \n",
       "8126  VTEPNHVN921B7876  VTEPNH  VTE  PNH  VN921        6  5.166667        6   \n",
       "8127  VTEPNHVN921B7877  VTEPNH  VTE  PNH  VN921        7  5.416667        7   \n",
       "8128  YIHCXRVN697B7872  YIHCXR  YIH  CXR  VN697        2  4.000000        2   \n",
       "\n",
       "           ETA    AC  revenue    cost  \n",
       "0     6.166667  A321   349.09  290.57  \n",
       "1     6.166667  A321   349.09  290.57  \n",
       "2     6.166667  A321   349.09  290.57  \n",
       "3     6.000000  A321   349.09  290.57  \n",
       "4     6.000000  A321   349.09  290.57  \n",
       "...        ...   ...      ...     ...  \n",
       "8124  6.583333  B787   535.41  445.50  \n",
       "8125  6.583333  B787   535.41  445.50  \n",
       "8126  6.583333  B787   535.41  445.50  \n",
       "8127  6.666667  B787   535.41  445.50  \n",
       "8128  7.666667  B787   682.50  588.92  \n",
       "\n",
       "[8129 rows x 12 columns]"
      ]
     },
     "execution_count": 3,
     "metadata": {},
     "output_type": "execute_result"
    }
   ],
   "source": [
    "data"
   ]
  },
  {
   "cell_type": "code",
   "execution_count": 4,
   "id": "3f612575",
   "metadata": {},
   "outputs": [],
   "source": [
    "# tạo dictionary về số tàu bay đã thuê mua:\n",
    "fleet = {'A350':14, 'B787':17, 'A321':62}"
   ]
  },
  {
   "cell_type": "markdown",
   "id": "61bdc578",
   "metadata": {},
   "source": [
    "# 2. Sets"
   ]
  },
  {
   "cell_type": "code",
   "execution_count": 5,
   "id": "6e40c663",
   "metadata": {},
   "outputs": [],
   "source": [
    "model = pyo.ConcreteModel()"
   ]
  },
  {
   "cell_type": "code",
   "execution_count": 6,
   "id": "959383ce",
   "metadata": {},
   "outputs": [],
   "source": [
    "# create set of sector\n",
    "# note: lam the nao de biet chuyen chieu di nao tuong ung voi chuyen chieu ve? co can tuong ung ko?\n",
    "model.sector = pyo.Set(initialize = data['sector'].unique())\n",
    "sector = model.sector"
   ]
  },
  {
   "cell_type": "code",
   "execution_count": 7,
   "id": "63035c95",
   "metadata": {},
   "outputs": [],
   "source": [
    "# create set of aircraft type\n",
    "model.ac_type = pyo.Set(initialize = data['AC'].unique())\n",
    "ac_type = model.ac_type"
   ]
  },
  {
   "cell_type": "code",
   "execution_count": 8,
   "id": "fb2d87dc",
   "metadata": {},
   "outputs": [],
   "source": [
    "# create set of flight no\n",
    "model.flight_no = pyo.Set(initialize = data['flight'].unique())\n",
    "flight_no = model.flight_no"
   ]
  },
  {
   "cell_type": "code",
   "execution_count": 9,
   "id": "c8cfd7c7",
   "metadata": {},
   "outputs": [],
   "source": [
    "# create set of DOW\n",
    "model.DOW = pyo.Set(initialize = range(1,8), domain = PositiveIntegers)\n",
    "DOW = model.DOW"
   ]
  },
  {
   "cell_type": "code",
   "execution_count": 10,
   "id": "68501b60",
   "metadata": {},
   "outputs": [],
   "source": [
    "# create set of hour\n",
    "model.hour = pyo.Set(initialize = range(0,24), domain = NonNegativeIntegers)\n",
    "hour = model.hour"
   ]
  },
  {
   "cell_type": "code",
   "execution_count": 11,
   "id": "506a33a5",
   "metadata": {},
   "outputs": [],
   "source": [
    "# create set of airport\n",
    "airport_from = data['from'].unique()\n",
    "airport_to = data['to'].unique()\n",
    "airport_set = set(np.concatenate((airport_from,airport_to)))\n",
    "model.airport = pyo.Set(initialize = airport_set, ordered = False)\n",
    "airport = model.airport"
   ]
  },
  {
   "cell_type": "code",
   "execution_count": 12,
   "id": "0cd8a3f7",
   "metadata": {},
   "outputs": [],
   "source": [
    "# Tạo 1 set để làm index các chuyến bay: số hiệu + AC + DOW\n",
    "model.flight_index = pyo.Set(initialize = data['index'])\n",
    "flight_index = model.flight_index"
   ]
  },
  {
   "cell_type": "markdown",
   "id": "14265806",
   "metadata": {},
   "source": [
    "# 3. Parameters"
   ]
  },
  {
   "cell_type": "markdown",
   "id": "3769d202",
   "metadata": {},
   "source": [
    "# 4. Variables"
   ]
  },
  {
   "cell_type": "code",
   "execution_count": 13,
   "id": "2bcab95c",
   "metadata": {},
   "outputs": [],
   "source": [
    "model.assign_fleet = pyo.Var(flight_index, within = Binary, initialize = 0)\n",
    "assign_fleet = model.assign_fleet"
   ]
  },
  {
   "cell_type": "code",
   "execution_count": 14,
   "id": "39b2e905",
   "metadata": {},
   "outputs": [],
   "source": [
    "model.park_ac = pyo.Var(airport, DOW, hour, ac_type, domain = NonNegativeIntegers)\n",
    "park_ac = model.park_ac"
   ]
  },
  {
   "cell_type": "markdown",
   "id": "262f5233",
   "metadata": {},
   "source": [
    "# 5. Constraints"
   ]
  },
  {
   "cell_type": "markdown",
   "id": "172dd751",
   "metadata": {},
   "source": [
    "## 5.1. Balance constraints"
   ]
  },
  {
   "cell_type": "markdown",
   "id": "0485aa50",
   "metadata": {},
   "source": [
    "Tại mỗi mốc thời gian, số tàu đậu đỗ theo từng loại tàu của mỗi mốc thời gian + số tàu bay hạ cánh phải tương đương với số tàu đậu đỗ của mốc thời gian kế tiếp + số tàu bay cất cánh (Node1 + inwards = Node2 + outwards). Ngoài ra, để đảm bảo giả định sản phẩm tần suất các tuần giống nhau, time node cuối cùng trong tuần (23h Chủ Nhật) phải balance với node đầu tiên trong tuần (0h Thứ Hai)."
   ]
  },
  {
   "cell_type": "code",
   "execution_count": 15,
   "id": "b7b26d4f",
   "metadata": {},
   "outputs": [],
   "source": [
    "def balance_constraint(model, a,d,h,ac):\n",
    "    # khung giờ đầu tiên của thứ hai phải cân bằng với khung giờ cuối cùng của chủ nhật\n",
    "    # (giả định sản phẩm tần suất của các tuần giống nhau)\n",
    "    if h == 0 and d == 1:\n",
    "        expr = (park_ac[a,d,h,ac] == \n",
    "                park_ac[a,7,23,ac]\n",
    "                +sum(assign_fleet[i] for i in data[\n",
    "                    (data['to'] == a)\n",
    "                    &(data['DOW_ETA'] == 7)\n",
    "                    &(data['ETA'].between(23,24,inclusive = 'left'))\n",
    "                    &(data['AC'] == ac)]['index'])\n",
    "                -sum(assign_fleet[i] for i in data[\n",
    "                    (data['from'] == a)\n",
    "                    &(data['DOW_ETD'] == 7)\n",
    "                    &(data['ETD'].between(23,24,inclusive = 'left'))\n",
    "                    &(data['AC'] == ac)]['index']))\n",
    "    # khung giờ đầu tiên trong ngày = khung giờ cuối cùng ngày hôm trước:\n",
    "    elif h == 0:\n",
    "        expr = (park_ac[a,d,h,ac] == \n",
    "                park_ac[a,d-1,23,ac]\n",
    "                +sum(assign_fleet[i] for i in data[\n",
    "                    (data['to'] == a)\n",
    "                    &(data['DOW_ETA'] == d-1)\n",
    "                    &(data['ETA'].between(23,24,inclusive = 'left'))\n",
    "                    &(data['AC'] == ac)]['index'])\n",
    "                -sum(assign_fleet[i] for i in data[\n",
    "                    (data['from'] == a)\n",
    "                    &(data['DOW_ETD'] == d-1)\n",
    "                    &(data['ETD'].between(23,24,inclusive = 'left'))\n",
    "                    &(data['AC'] == ac)]['index']))\n",
    "    # balance constraint cho các khung giờ trong 1 ngày:\n",
    "    else:\n",
    "        expr = (park_ac[a,d,h,ac] == \n",
    "                park_ac[a,d,h-1,ac]\n",
    "                +sum(assign_fleet[i] for i in data[\n",
    "                    (data['to'] == a)\n",
    "                    &(data['DOW_ETA'] == d)\n",
    "                    &(data['ETA'].between(h-1,h,inclusive = 'left'))\n",
    "                    &(data['AC'] == ac)]['index'])\n",
    "                -sum(assign_fleet[i] for i in data[\n",
    "                    (data['from'] == a)\n",
    "                    &(data['DOW_ETD'] == d)\n",
    "                    &(data['ETD'].between(h-1,h,inclusive = 'left'))\n",
    "                    &(data['AC'] == ac)]['index']))\n",
    "    return expr"
   ]
  },
  {
   "cell_type": "code",
   "execution_count": 16,
   "id": "e34914c7",
   "metadata": {},
   "outputs": [],
   "source": [
    "model.balance_constraint = pyo.Constraint(airport, DOW, hour, ac_type, rule = balance_constraint)"
   ]
  },
  {
   "cell_type": "markdown",
   "id": "d25cbf54",
   "metadata": {},
   "source": [
    "## 5.2. Coverage constraints"
   ]
  },
  {
   "cell_type": "markdown",
   "id": "34015a02",
   "metadata": {},
   "source": [
    "Mỗi 1 số hiệu chuyến bay nếu được lựa chọn khai thác thì chỉ được dùng duy nhất 1 loại tàu bay trong ngày. (Vd: VN087 không thể khai thác đồng thời 321 và 787 tại cùng 1 ngày)."
   ]
  },
  {
   "cell_type": "code",
   "execution_count": 17,
   "id": "5aa910b9",
   "metadata": {},
   "outputs": [],
   "source": [
    "def coverage_constraint(model, f,d):\n",
    "    if data[(data['flight']==f)&(data['DOW_ETD']==d)].empty:\n",
    "        expr = pyo.Constraint.Skip\n",
    "    else:\n",
    "        expr = sum(assign_fleet[i] for i in data[(data['flight']==f)&(data['DOW_ETD']==d)]['index']) <= 1\n",
    "    return expr\n",
    "# Rieeng các đường xuyên Đông Dương thì sẽ có 2 chuyến bay có chung 1 số hiệu chuyến bay trong 1 ngày, vì vậy phải thêm elif"
   ]
  },
  {
   "cell_type": "code",
   "execution_count": 18,
   "id": "db350a88",
   "metadata": {},
   "outputs": [],
   "source": [
    "model.coverage_constraint = pyo.Constraint(flight_no, DOW, rule = coverage_constraint)"
   ]
  },
  {
   "cell_type": "markdown",
   "id": "1c9ad8c1",
   "metadata": {},
   "source": [
    "## 5.3. Fleet constraints"
   ]
  },
  {
   "cell_type": "markdown",
   "id": "4b6a9b62",
   "metadata": {},
   "source": [
    "Tổng số tàu bay tại các sân bay trong từng khung giờ không được lớn hơn số tàu bay đã thuê mua."
   ]
  },
  {
   "cell_type": "code",
   "execution_count": 19,
   "id": "c57ec8ca",
   "metadata": {},
   "outputs": [],
   "source": [
    "def fleet_constraint(model, d,h,ac):\n",
    "    return pyo.inequality(0,sum(park_ac[a,d,h,ac] for a in airport),fleet[ac])\n",
    "# có thể tính chi phí tàu bay cố định = sum(park_ac[a,d,h,ac] for a in airport)*chi phí 1 tàu"
   ]
  },
  {
   "cell_type": "code",
   "execution_count": 20,
   "id": "a0988edc",
   "metadata": {},
   "outputs": [],
   "source": [
    "model.fleet_constraint = pyo.Constraint(DOW, hour, ac_type, rule = fleet_constraint)"
   ]
  },
  {
   "cell_type": "markdown",
   "id": "a764eb90",
   "metadata": {},
   "source": [
    "## 5.4. Airport constraints"
   ]
  },
  {
   "cell_type": "markdown",
   "id": "a49b7e08",
   "metadata": {},
   "source": [
    "Một số đường bay chỉ dùng được tàu thân rộng, một số đường bay khác chỉ dùng được tàu AT7 do hạn chế về khoảng cách bay và cơ sở hạ tầng sân bay."
   ]
  },
  {
   "cell_type": "code",
   "execution_count": 21,
   "id": "ef87a6c4",
   "metadata": {},
   "outputs": [],
   "source": [
    "long_haul = ['CDG','DME','SVO','FRA','LHR','LAX','SFO','SYD','MEL']"
   ]
  },
  {
   "cell_type": "code",
   "execution_count": 22,
   "id": "907f6b8d",
   "metadata": {},
   "outputs": [],
   "source": [
    "def airport_constraint(model, i):\n",
    "    return sum(assign_fleet[i] for i in data[(data['AC']=='A321')&(data['to'].isin(long_haul))]['index']) == 0"
   ]
  },
  {
   "cell_type": "code",
   "execution_count": null,
   "id": "743b1a60",
   "metadata": {},
   "outputs": [],
   "source": []
  },
  {
   "cell_type": "markdown",
   "id": "68a87acb",
   "metadata": {},
   "source": [
    "## 5.5. Product constraints"
   ]
  },
  {
   "cell_type": "markdown",
   "id": "b2ccd598",
   "metadata": {},
   "source": [
    "Để đảm bảo tính đồng nhất của sản phẩm, các chuyến bay trên 1 đường bay phải sử dụng loại tàu bay giống nhau giữa các ngày trong tuần."
   ]
  },
  {
   "cell_type": "code",
   "execution_count": 23,
   "id": "f671f6d9",
   "metadata": {},
   "outputs": [],
   "source": [
    "# sum(flight for fleet a)*sum(flight for fleet b) == 0 => chỉ được chọn 1 trong 2 fleet a hoặc b cho tất cả tần suất trong tuần"
   ]
  },
  {
   "cell_type": "code",
   "execution_count": 24,
   "id": "57a77ef1",
   "metadata": {},
   "outputs": [],
   "source": [
    "def product_constraint(model,f):\n",
    "    x = []\n",
    "    for ac in ac_type:\n",
    "        x.append(sum(assign_fleet[i] for i in data[(data['flight']==f)&(data['AC']==ac)]['index']))\n",
    "    return np.prod(x) == 0"
   ]
  },
  {
   "cell_type": "code",
   "execution_count": 25,
   "id": "c6603cae",
   "metadata": {},
   "outputs": [],
   "source": [
    "model.product_constraint = pyo.Constraint(flight_no, rule = product_constraint)"
   ]
  },
  {
   "cell_type": "markdown",
   "id": "1efb7559",
   "metadata": {},
   "source": [
    "# 6. Objective function"
   ]
  },
  {
   "cell_type": "code",
   "execution_count": 26,
   "id": "9f5383a2",
   "metadata": {},
   "outputs": [],
   "source": [
    "model.obj = pyo.Objective(expr = (sum(assign_fleet[i]*data[data['index']==i]['revenue'].values[0] for i in flight_index)\n",
    "                          -sum(assign_fleet[i]*data[data['index']==i]['cost'].values[0] for i in flight_index)), sense = pyo.maximize)"
   ]
  },
  {
   "cell_type": "code",
   "execution_count": 29,
   "id": "b0126b57",
   "metadata": {},
   "outputs": [],
   "source": [
    "solver = SolverFactory('couenne', executable = \"C:\\\\Users\\\\namtrantuan\\\\Desktop\\\\FAM\\\\bin\\\\couenne.exe\")"
   ]
  },
  {
   "cell_type": "code",
   "execution_count": null,
   "id": "5c62554c",
   "metadata": {},
   "outputs": [],
   "source": [
    "results = solver.solve(model)"
   ]
  },
  {
   "cell_type": "markdown",
   "id": "936a005d",
   "metadata": {},
   "source": [
    "# 7. Results"
   ]
  },
  {
   "cell_type": "code",
   "execution_count": null,
   "id": "8a360aed",
   "metadata": {},
   "outputs": [],
   "source": [
    "model.pprint()"
   ]
  },
  {
   "cell_type": "code",
   "execution_count": null,
   "id": "62df0d09",
   "metadata": {},
   "outputs": [],
   "source": [
    "results.solver.status"
   ]
  },
  {
   "cell_type": "code",
   "execution_count": null,
   "id": "5285a854",
   "metadata": {},
   "outputs": [],
   "source": [
    "results.solver.termination_condition"
   ]
  },
  {
   "cell_type": "code",
   "execution_count": null,
   "id": "6482aed5",
   "metadata": {},
   "outputs": [],
   "source": [
    "optimal_values = [value(assign_fleet[i]) for i in assign_fleet]"
   ]
  },
  {
   "cell_type": "code",
   "execution_count": null,
   "id": "8667388e",
   "metadata": {},
   "outputs": [],
   "source": [
    "park_ac_data = {(a,d,h,ac, v.name): value(v) for (a,d,h,ac), v in park_ac.items()}\n",
    "df_park_ac = pd.DataFrame.from_dict(park_ac_data, orient=\"index\", columns=[\"variable value\"])\n",
    "df_park_ac.reset_index(inplace = True)\n",
    "print(df_park_ac)"
   ]
  },
  {
   "cell_type": "code",
   "execution_count": null,
   "id": "35bd9e6f",
   "metadata": {},
   "outputs": [],
   "source": [
    "df_assign_fleet = pd.DataFrame.from_dict(assign_fleet.extract_values(), orient='index', columns=[str(assign_fleet)])\n",
    "df_assign_fleet.reset_index(inplace = True)\n",
    "print(df_assign_fleet)"
   ]
  },
  {
   "cell_type": "code",
   "execution_count": null,
   "id": "97b9d80c",
   "metadata": {},
   "outputs": [],
   "source": [
    "result = data.merge(df_assign_fleet, on = 'index')"
   ]
  },
  {
   "cell_type": "code",
   "execution_count": null,
   "id": "d1f72f53",
   "metadata": {},
   "outputs": [],
   "source": [
    "result.to_excel('result.xlsx')"
   ]
  },
  {
   "cell_type": "code",
   "execution_count": null,
   "id": "2f535176",
   "metadata": {},
   "outputs": [],
   "source": []
  }
 ],
 "metadata": {
  "kernelspec": {
   "display_name": "Python 3 (ipykernel)",
   "language": "python",
   "name": "python3"
  },
  "language_info": {
   "codemirror_mode": {
    "name": "ipython",
    "version": 3
   },
   "file_extension": ".py",
   "mimetype": "text/x-python",
   "name": "python",
   "nbconvert_exporter": "python",
   "pygments_lexer": "ipython3",
   "version": "3.9.7"
  }
 },
 "nbformat": 4,
 "nbformat_minor": 5
}
