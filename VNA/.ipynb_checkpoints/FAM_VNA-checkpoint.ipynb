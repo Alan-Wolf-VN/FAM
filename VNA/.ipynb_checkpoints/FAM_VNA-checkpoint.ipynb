{
 "cells": [
  {
   "cell_type": "markdown",
   "id": "51e2cd17",
   "metadata": {},
   "source": [
    "# 1. Import data"
   ]
  },
  {
   "cell_type": "code",
   "execution_count": 1,
   "id": "03694440",
   "metadata": {},
   "outputs": [],
   "source": [
    "import pandas as pd\n",
    "import numpy as np\n",
    "from pyomo.common.timing import report_timing\n",
    "import pyomo.environ as pyo\n",
    "from pyomo.environ import *\n",
    "from pyomo.opt import SolverFactory\n",
    "from pyomo.opt import SolverStatus, TerminationCondition"
   ]
  },
  {
   "cell_type": "code",
   "execution_count": 2,
   "id": "4872cc54",
   "metadata": {},
   "outputs": [],
   "source": [
    "data = pd.read_excel('data.xlsx')"
   ]
  },
  {
   "cell_type": "code",
   "execution_count": 3,
   "id": "64eeef86",
   "metadata": {},
   "outputs": [
    {
     "data": {
      "text/html": [
       "<div>\n",
       "<style scoped>\n",
       "    .dataframe tbody tr th:only-of-type {\n",
       "        vertical-align: middle;\n",
       "    }\n",
       "\n",
       "    .dataframe tbody tr th {\n",
       "        vertical-align: top;\n",
       "    }\n",
       "\n",
       "    .dataframe thead th {\n",
       "        text-align: right;\n",
       "    }\n",
       "</style>\n",
       "<table border=\"1\" class=\"dataframe\">\n",
       "  <thead>\n",
       "    <tr style=\"text-align: right;\">\n",
       "      <th></th>\n",
       "      <th>index</th>\n",
       "      <th>sector</th>\n",
       "      <th>from</th>\n",
       "      <th>to</th>\n",
       "      <th>flight</th>\n",
       "      <th>DOW_ETD</th>\n",
       "      <th>ETD</th>\n",
       "      <th>DOW_ETA</th>\n",
       "      <th>ETA</th>\n",
       "      <th>AC</th>\n",
       "      <th>revenue</th>\n",
       "      <th>cost</th>\n",
       "    </tr>\n",
       "  </thead>\n",
       "  <tbody>\n",
       "    <tr>\n",
       "      <th>0</th>\n",
       "      <td>BKKSGNVN600A3211</td>\n",
       "      <td>BKKSGN</td>\n",
       "      <td>BKK</td>\n",
       "      <td>SGN</td>\n",
       "      <td>VN600</td>\n",
       "      <td>1</td>\n",
       "      <td>4.333333</td>\n",
       "      <td>1</td>\n",
       "      <td>6.166667</td>\n",
       "      <td>A321</td>\n",
       "      <td>349.09</td>\n",
       "      <td>290.57</td>\n",
       "    </tr>\n",
       "    <tr>\n",
       "      <th>1</th>\n",
       "      <td>BKKSGNVN600A3212</td>\n",
       "      <td>BKKSGN</td>\n",
       "      <td>BKK</td>\n",
       "      <td>SGN</td>\n",
       "      <td>VN600</td>\n",
       "      <td>2</td>\n",
       "      <td>4.333333</td>\n",
       "      <td>2</td>\n",
       "      <td>6.166667</td>\n",
       "      <td>A321</td>\n",
       "      <td>349.09</td>\n",
       "      <td>290.57</td>\n",
       "    </tr>\n",
       "    <tr>\n",
       "      <th>2</th>\n",
       "      <td>BKKSGNVN600A3213</td>\n",
       "      <td>BKKSGN</td>\n",
       "      <td>BKK</td>\n",
       "      <td>SGN</td>\n",
       "      <td>VN600</td>\n",
       "      <td>3</td>\n",
       "      <td>4.333333</td>\n",
       "      <td>3</td>\n",
       "      <td>6.166667</td>\n",
       "      <td>A321</td>\n",
       "      <td>349.09</td>\n",
       "      <td>290.57</td>\n",
       "    </tr>\n",
       "    <tr>\n",
       "      <th>3</th>\n",
       "      <td>BKKSGNVN600A3214</td>\n",
       "      <td>BKKSGN</td>\n",
       "      <td>BKK</td>\n",
       "      <td>SGN</td>\n",
       "      <td>VN600</td>\n",
       "      <td>4</td>\n",
       "      <td>4.333333</td>\n",
       "      <td>4</td>\n",
       "      <td>6.000000</td>\n",
       "      <td>A321</td>\n",
       "      <td>349.09</td>\n",
       "      <td>290.57</td>\n",
       "    </tr>\n",
       "    <tr>\n",
       "      <th>4</th>\n",
       "      <td>BKKSGNVN600A3215</td>\n",
       "      <td>BKKSGN</td>\n",
       "      <td>BKK</td>\n",
       "      <td>SGN</td>\n",
       "      <td>VN600</td>\n",
       "      <td>5</td>\n",
       "      <td>4.333333</td>\n",
       "      <td>5</td>\n",
       "      <td>6.000000</td>\n",
       "      <td>A321</td>\n",
       "      <td>349.09</td>\n",
       "      <td>290.57</td>\n",
       "    </tr>\n",
       "    <tr>\n",
       "      <th>...</th>\n",
       "      <td>...</td>\n",
       "      <td>...</td>\n",
       "      <td>...</td>\n",
       "      <td>...</td>\n",
       "      <td>...</td>\n",
       "      <td>...</td>\n",
       "      <td>...</td>\n",
       "      <td>...</td>\n",
       "      <td>...</td>\n",
       "      <td>...</td>\n",
       "      <td>...</td>\n",
       "      <td>...</td>\n",
       "    </tr>\n",
       "    <tr>\n",
       "      <th>8124</th>\n",
       "      <td>VTEPNHVN921B7874</td>\n",
       "      <td>VTEPNH</td>\n",
       "      <td>VTE</td>\n",
       "      <td>PNH</td>\n",
       "      <td>VN921</td>\n",
       "      <td>4</td>\n",
       "      <td>5.166667</td>\n",
       "      <td>4</td>\n",
       "      <td>6.583333</td>\n",
       "      <td>B787</td>\n",
       "      <td>535.41</td>\n",
       "      <td>445.50</td>\n",
       "    </tr>\n",
       "    <tr>\n",
       "      <th>8125</th>\n",
       "      <td>VTEPNHVN921B7875</td>\n",
       "      <td>VTEPNH</td>\n",
       "      <td>VTE</td>\n",
       "      <td>PNH</td>\n",
       "      <td>VN921</td>\n",
       "      <td>5</td>\n",
       "      <td>5.166667</td>\n",
       "      <td>5</td>\n",
       "      <td>6.583333</td>\n",
       "      <td>B787</td>\n",
       "      <td>535.41</td>\n",
       "      <td>445.50</td>\n",
       "    </tr>\n",
       "    <tr>\n",
       "      <th>8126</th>\n",
       "      <td>VTEPNHVN921B7876</td>\n",
       "      <td>VTEPNH</td>\n",
       "      <td>VTE</td>\n",
       "      <td>PNH</td>\n",
       "      <td>VN921</td>\n",
       "      <td>6</td>\n",
       "      <td>5.166667</td>\n",
       "      <td>6</td>\n",
       "      <td>6.583333</td>\n",
       "      <td>B787</td>\n",
       "      <td>535.41</td>\n",
       "      <td>445.50</td>\n",
       "    </tr>\n",
       "    <tr>\n",
       "      <th>8127</th>\n",
       "      <td>VTEPNHVN921B7877</td>\n",
       "      <td>VTEPNH</td>\n",
       "      <td>VTE</td>\n",
       "      <td>PNH</td>\n",
       "      <td>VN921</td>\n",
       "      <td>7</td>\n",
       "      <td>5.416667</td>\n",
       "      <td>7</td>\n",
       "      <td>6.666667</td>\n",
       "      <td>B787</td>\n",
       "      <td>535.41</td>\n",
       "      <td>445.50</td>\n",
       "    </tr>\n",
       "    <tr>\n",
       "      <th>8128</th>\n",
       "      <td>YIHCXRVN697B7872</td>\n",
       "      <td>YIHCXR</td>\n",
       "      <td>YIH</td>\n",
       "      <td>CXR</td>\n",
       "      <td>VN697</td>\n",
       "      <td>2</td>\n",
       "      <td>4.000000</td>\n",
       "      <td>2</td>\n",
       "      <td>7.666667</td>\n",
       "      <td>B787</td>\n",
       "      <td>682.50</td>\n",
       "      <td>588.92</td>\n",
       "    </tr>\n",
       "  </tbody>\n",
       "</table>\n",
       "<p>8129 rows × 12 columns</p>\n",
       "</div>"
      ],
      "text/plain": [
       "                 index  sector from   to flight  DOW_ETD       ETD  DOW_ETA  \\\n",
       "0     BKKSGNVN600A3211  BKKSGN  BKK  SGN  VN600        1  4.333333        1   \n",
       "1     BKKSGNVN600A3212  BKKSGN  BKK  SGN  VN600        2  4.333333        2   \n",
       "2     BKKSGNVN600A3213  BKKSGN  BKK  SGN  VN600        3  4.333333        3   \n",
       "3     BKKSGNVN600A3214  BKKSGN  BKK  SGN  VN600        4  4.333333        4   \n",
       "4     BKKSGNVN600A3215  BKKSGN  BKK  SGN  VN600        5  4.333333        5   \n",
       "...                ...     ...  ...  ...    ...      ...       ...      ...   \n",
       "8124  VTEPNHVN921B7874  VTEPNH  VTE  PNH  VN921        4  5.166667        4   \n",
       "8125  VTEPNHVN921B7875  VTEPNH  VTE  PNH  VN921        5  5.166667        5   \n",
       "8126  VTEPNHVN921B7876  VTEPNH  VTE  PNH  VN921        6  5.166667        6   \n",
       "8127  VTEPNHVN921B7877  VTEPNH  VTE  PNH  VN921        7  5.416667        7   \n",
       "8128  YIHCXRVN697B7872  YIHCXR  YIH  CXR  VN697        2  4.000000        2   \n",
       "\n",
       "           ETA    AC  revenue    cost  \n",
       "0     6.166667  A321   349.09  290.57  \n",
       "1     6.166667  A321   349.09  290.57  \n",
       "2     6.166667  A321   349.09  290.57  \n",
       "3     6.000000  A321   349.09  290.57  \n",
       "4     6.000000  A321   349.09  290.57  \n",
       "...        ...   ...      ...     ...  \n",
       "8124  6.583333  B787   535.41  445.50  \n",
       "8125  6.583333  B787   535.41  445.50  \n",
       "8126  6.583333  B787   535.41  445.50  \n",
       "8127  6.666667  B787   535.41  445.50  \n",
       "8128  7.666667  B787   682.50  588.92  \n",
       "\n",
       "[8129 rows x 12 columns]"
      ]
     },
     "execution_count": 3,
     "metadata": {},
     "output_type": "execute_result"
    }
   ],
   "source": [
    "data"
   ]
  },
  {
   "cell_type": "code",
   "execution_count": 4,
   "id": "3f612575",
   "metadata": {},
   "outputs": [],
   "source": [
    "# tạo dictionary về số tàu bay đã thuê mua:\n",
    "fleet = {'A350':14, 'B787':17, 'A321':62}"
   ]
  },
  {
   "cell_type": "markdown",
   "id": "61bdc578",
   "metadata": {},
   "source": [
    "# 2. Sets"
   ]
  },
  {
   "cell_type": "code",
   "execution_count": 5,
   "id": "6e40c663",
   "metadata": {},
   "outputs": [],
   "source": [
    "model = pyo.ConcreteModel()"
   ]
  },
  {
   "cell_type": "code",
   "execution_count": 6,
   "id": "73f6163a",
   "metadata": {},
   "outputs": [
    {
     "data": {
      "text/plain": [
       "<StreamHandler stdout (NOTSET)>"
      ]
     },
     "execution_count": 6,
     "metadata": {},
     "output_type": "execute_result"
    }
   ],
   "source": [
    "report_timing()"
   ]
  },
  {
   "cell_type": "code",
   "execution_count": 7,
   "id": "959383ce",
   "metadata": {},
   "outputs": [
    {
     "name": "stdout",
     "output_type": "stream",
     "text": [
      "           0 seconds to construct Set sector; 1 index total\n"
     ]
    }
   ],
   "source": [
    "# create set of sector\n",
    "# note: lam the nao de biet chuyen chieu di nao tuong ung voi chuyen chieu ve? co can tuong ung ko?\n",
    "model.sector = pyo.Set(initialize = data['sector'].unique())\n",
    "sector = model.sector"
   ]
  },
  {
   "cell_type": "code",
   "execution_count": 8,
   "id": "63035c95",
   "metadata": {},
   "outputs": [
    {
     "name": "stdout",
     "output_type": "stream",
     "text": [
      "           0 seconds to construct Set ac_type; 1 index total\n"
     ]
    }
   ],
   "source": [
    "# create set of aircraft type\n",
    "model.ac_type = pyo.Set(initialize = data['AC'].unique())\n",
    "ac_type = model.ac_type"
   ]
  },
  {
   "cell_type": "code",
   "execution_count": 9,
   "id": "fb2d87dc",
   "metadata": {},
   "outputs": [
    {
     "name": "stdout",
     "output_type": "stream",
     "text": [
      "           0 seconds to construct Set flight_no; 1 index total\n"
     ]
    }
   ],
   "source": [
    "# create set of flight no\n",
    "model.flight_no = pyo.Set(initialize = data['flight'].unique())\n",
    "flight_no = model.flight_no"
   ]
  },
  {
   "cell_type": "code",
   "execution_count": 10,
   "id": "c8cfd7c7",
   "metadata": {},
   "outputs": [
    {
     "name": "stdout",
     "output_type": "stream",
     "text": [
      "           0 seconds to construct Set DOW; 1 index total\n"
     ]
    }
   ],
   "source": [
    "# create set of DOW\n",
    "model.DOW = pyo.Set(initialize = range(1,8), domain = PositiveIntegers)\n",
    "DOW = model.DOW"
   ]
  },
  {
   "cell_type": "code",
   "execution_count": 11,
   "id": "68501b60",
   "metadata": {},
   "outputs": [
    {
     "name": "stdout",
     "output_type": "stream",
     "text": [
      "           0 seconds to construct Set hour; 1 index total\n"
     ]
    }
   ],
   "source": [
    "# create set of hour\n",
    "model.hour = pyo.Set(initialize = range(0,24), domain = NonNegativeIntegers)\n",
    "hour = model.hour"
   ]
  },
  {
   "cell_type": "code",
   "execution_count": 12,
   "id": "506a33a5",
   "metadata": {},
   "outputs": [
    {
     "name": "stdout",
     "output_type": "stream",
     "text": [
      "           0 seconds to construct Set airport; 1 index total\n"
     ]
    }
   ],
   "source": [
    "# create set of airport\n",
    "airport_from = data['from'].unique()\n",
    "airport_to = data['to'].unique()\n",
    "airport_set = set(np.concatenate((airport_from,airport_to)))\n",
    "model.airport = pyo.Set(initialize = airport_set, ordered = False)\n",
    "airport = model.airport"
   ]
  },
  {
   "cell_type": "code",
   "execution_count": 13,
   "id": "0cd8a3f7",
   "metadata": {},
   "outputs": [
    {
     "name": "stdout",
     "output_type": "stream",
     "text": [
      "        0.02 seconds to construct Set flight_index; 1 index total\n"
     ]
    }
   ],
   "source": [
    "# Tạo 1 set để làm index các chuyến bay: số hiệu + AC + DOW\n",
    "model.flight_index = pyo.Set(initialize = data['index'])\n",
    "flight_index = model.flight_index"
   ]
  },
  {
   "cell_type": "markdown",
   "id": "14265806",
   "metadata": {},
   "source": [
    "# 3. Parameters"
   ]
  },
  {
   "cell_type": "markdown",
   "id": "3769d202",
   "metadata": {},
   "source": [
    "# 4. Variables"
   ]
  },
  {
   "cell_type": "code",
   "execution_count": 14,
   "id": "2bcab95c",
   "metadata": {},
   "outputs": [
    {
     "name": "stdout",
     "output_type": "stream",
     "text": [
      "        0.01 seconds to construct Var assign_fleet; 8129 indices total\n"
     ]
    }
   ],
   "source": [
    "model.assign_fleet = pyo.Var(flight_index, within = Binary, initialize = 0)\n",
    "assign_fleet = model.assign_fleet"
   ]
  },
  {
   "cell_type": "code",
   "execution_count": 15,
   "id": "39b2e905",
   "metadata": {},
   "outputs": [
    {
     "name": "stdout",
     "output_type": "stream",
     "text": [
      "           0 seconds to construct Set SetProduct_FiniteSet; 1 index total\n",
      "           0 seconds to construct Set SetProduct_FiniteSet; 1 index total\n",
      "        0.06 seconds to construct Var time_nodes; 31752 indices total\n"
     ]
    }
   ],
   "source": [
    "model.time_nodes = pyo.Var(airport, DOW, hour, ac_type, domain = NonNegativeIntegers)\n",
    "time_nodes = model.time_nodes"
   ]
  },
  {
   "cell_type": "markdown",
   "id": "262f5233",
   "metadata": {},
   "source": [
    "# 5. Constraints"
   ]
  },
  {
   "cell_type": "markdown",
   "id": "172dd751",
   "metadata": {},
   "source": [
    "## 5.1. Balance constraints"
   ]
  },
  {
   "cell_type": "markdown",
   "id": "0485aa50",
   "metadata": {},
   "source": [
    "Tại mỗi mốc thời gian, số tàu đậu đỗ theo từng loại tàu của mỗi mốc thời gian + số tàu bay hạ cánh phải tương đương với số tàu đậu đỗ của mốc thời gian kế tiếp + số tàu bay cất cánh (Node1 + inwards = Node2 + outwards). Ngoài ra, để đảm bảo giả định sản phẩm tần suất các tuần giống nhau, time node cuối cùng trong tuần (23h Chủ Nhật) phải balance với node đầu tiên trong tuần (0h Thứ Hai)."
   ]
  },
  {
   "cell_type": "code",
   "execution_count": 16,
   "id": "b7b26d4f",
   "metadata": {},
   "outputs": [],
   "source": [
    "def balance_constraint(model, a,d,h,ac):\n",
    "    # khung giờ đầu tiên của thứ hai phải cân bằng với khung giờ cuối cùng của chủ nhật\n",
    "    # (giả định sản phẩm tần suất của các tuần giống nhau)\n",
    "    if h == 0 and d == 1:\n",
    "        expr = (time_nodes[a,d,h,ac] == \n",
    "                time_nodes[a,7,23,ac]\n",
    "                +sum(assign_fleet[i] for i in data[\n",
    "                    (data['to'] == a)\n",
    "                    &(data['DOW_ETA'] == 7)\n",
    "                    &(data['ETA'].between(23,24,inclusive = 'left'))\n",
    "                    &(data['AC'] == ac)]['index'])\n",
    "                -sum(assign_fleet[i] for i in data[\n",
    "                    (data['from'] == a)\n",
    "                    &(data['DOW_ETD'] == 7)\n",
    "                    &(data['ETD'].between(23,24,inclusive = 'left'))\n",
    "                    &(data['AC'] == ac)]['index']))\n",
    "    # khung giờ đầu tiên trong ngày = khung giờ cuối cùng ngày hôm trước:\n",
    "    elif h == 0:\n",
    "        expr = (time_nodes[a,d,h,ac] == \n",
    "                time_nodes[a,d-1,23,ac]\n",
    "                +sum(assign_fleet[i] for i in data[\n",
    "                    (data['to'] == a)\n",
    "                    &(data['DOW_ETA'] == d-1)\n",
    "                    &(data['ETA'].between(23,24,inclusive = 'left'))\n",
    "                    &(data['AC'] == ac)]['index'])\n",
    "                -sum(assign_fleet[i] for i in data[\n",
    "                    (data['from'] == a)\n",
    "                    &(data['DOW_ETD'] == d-1)\n",
    "                    &(data['ETD'].between(23,24,inclusive = 'left'))\n",
    "                    &(data['AC'] == ac)]['index']))\n",
    "    # balance constraint cho các khung giờ trong 1 ngày:\n",
    "    else:\n",
    "        expr = (time_nodes[a,d,h,ac] == \n",
    "                time_nodes[a,d,h-1,ac]\n",
    "                +sum(assign_fleet[i] for i in data[\n",
    "                    (data['to'] == a)\n",
    "                    &(data['DOW_ETA'] == d)\n",
    "                    &(data['ETA'].between(h-1,h,inclusive = 'left'))\n",
    "                    &(data['AC'] == ac)]['index'])\n",
    "                -sum(assign_fleet[i] for i in data[\n",
    "                    (data['from'] == a)\n",
    "                    &(data['DOW_ETD'] == d)\n",
    "                    &(data['ETD'].between(h-1,h,inclusive = 'left'))\n",
    "                    &(data['AC'] == ac)]['index']))\n",
    "    return expr"
   ]
  },
  {
   "cell_type": "code",
   "execution_count": 17,
   "id": "e34914c7",
   "metadata": {},
   "outputs": [
    {
     "name": "stdout",
     "output_type": "stream",
     "text": [
      "           0 seconds to construct Set SetProduct_FiniteSet; 1 index total\n",
      "           0 seconds to construct Set SetProduct_FiniteSet; 1 index total\n",
      "      106.35 seconds to construct Constraint balance_constraint; 31752 indices total\n"
     ]
    }
   ],
   "source": [
    "model.balance_constraint = pyo.Constraint(airport, DOW, hour, ac_type, rule = balance_constraint)"
   ]
  },
  {
   "cell_type": "markdown",
   "id": "d25cbf54",
   "metadata": {},
   "source": [
    "## 5.2. Coverage constraints"
   ]
  },
  {
   "cell_type": "markdown",
   "id": "34015a02",
   "metadata": {},
   "source": [
    "Mỗi 1 số hiệu chuyến bay nếu được lựa chọn khai thác thì chỉ được dùng duy nhất 1 loại tàu bay trong ngày. (Vd: VN087 không thể khai thác đồng thời 321 và 787 tại cùng 1 ngày)."
   ]
  },
  {
   "cell_type": "code",
   "execution_count": 18,
   "id": "5aa910b9",
   "metadata": {},
   "outputs": [],
   "source": [
    "def coverage_constraint(model, f,d):\n",
    "    if data[(data['flight']==f)&(data['DOW_ETD']==d)].empty:\n",
    "        expr = pyo.Constraint.Skip\n",
    "    else:\n",
    "        expr = sum(assign_fleet[i] for i in data[(data['flight']==f)&(data['DOW_ETD']==d)]['index']) <= 1\n",
    "    return expr\n",
    "# Rieeng các đường xuyên Đông Dương thì sẽ có 2 chuyến bay có chung 1 số hiệu chuyến bay trong 1 ngày, vì vậy phải thêm elif"
   ]
  },
  {
   "cell_type": "code",
   "execution_count": 19,
   "id": "db350a88",
   "metadata": {},
   "outputs": [
    {
     "name": "stdout",
     "output_type": "stream",
     "text": [
      "           0 seconds to construct Set SetProduct_OrderedSet; 1 index total\n",
      "           0 seconds to construct Set SetProduct_OrderedSet; 1 index total\n",
      "        5.17 seconds to construct Constraint coverage_constraint; 3507 indices total\n"
     ]
    }
   ],
   "source": [
    "model.coverage_constraint = pyo.Constraint(flight_no, DOW, rule = coverage_constraint)"
   ]
  },
  {
   "cell_type": "markdown",
   "id": "1c9ad8c1",
   "metadata": {},
   "source": [
    "## 5.3. Fleet constraints"
   ]
  },
  {
   "cell_type": "markdown",
   "id": "4b6a9b62",
   "metadata": {},
   "source": [
    "Tổng số tàu bay tại các sân bay trong từng khung giờ không được lớn hơn số tàu bay đã thuê mua."
   ]
  },
  {
   "cell_type": "code",
   "execution_count": 20,
   "id": "c57ec8ca",
   "metadata": {},
   "outputs": [],
   "source": [
    "def fleet_constraint(model, d,h,ac):\n",
    "    return pyo.inequality(0,sum(time_nodes[a,d,h,ac] for a in airport),fleet[ac])\n",
    "# có thể tính chi phí tàu bay cố định = sum(time_nodes[a,d,h,ac] for a in airport)*chi phí 1 tàu"
   ]
  },
  {
   "cell_type": "code",
   "execution_count": 21,
   "id": "a0988edc",
   "metadata": {},
   "outputs": [
    {
     "name": "stdout",
     "output_type": "stream",
     "text": [
      "           0 seconds to construct Set SetProduct_OrderedSet; 1 index total\n",
      "           0 seconds to construct Set SetProduct_OrderedSet; 1 index total\n",
      "        0.07 seconds to construct Constraint fleet_constraint; 504 indices total\n"
     ]
    }
   ],
   "source": [
    "model.fleet_constraint = pyo.Constraint(DOW, hour, ac_type, rule = fleet_constraint)"
   ]
  },
  {
   "cell_type": "markdown",
   "id": "a764eb90",
   "metadata": {},
   "source": [
    "## 5.4. Airport constraints"
   ]
  },
  {
   "cell_type": "markdown",
   "id": "a49b7e08",
   "metadata": {},
   "source": [
    "Một số đường bay chỉ dùng được tàu thân rộng, một số đường bay khác chỉ dùng được tàu AT7 do hạn chế về khoảng cách bay và cơ sở hạ tầng sân bay."
   ]
  },
  {
   "cell_type": "code",
   "execution_count": 22,
   "id": "ef87a6c4",
   "metadata": {},
   "outputs": [],
   "source": [
    "long_haul = ['CDG','DME','SVO','FRA','LHR','LAX','SFO','SYD','MEL']"
   ]
  },
  {
   "cell_type": "code",
   "execution_count": 23,
   "id": "907f6b8d",
   "metadata": {},
   "outputs": [],
   "source": [
    "def airport_constraint(model, i):\n",
    "    return sum(assign_fleet[i] for i in data[(data['AC']=='A321')&(data['to'].isin(long_haul))]['index']) == 0"
   ]
  },
  {
   "cell_type": "markdown",
   "id": "68a87acb",
   "metadata": {},
   "source": [
    "## 5.5. Product constraints"
   ]
  },
  {
   "cell_type": "markdown",
   "id": "b2ccd598",
   "metadata": {},
   "source": [
    "Để đảm bảo tính đồng nhất của sản phẩm, các chuyến bay trên 1 đường bay phải sử dụng loại tàu bay giống nhau giữa các ngày trong tuần."
   ]
  },
  {
   "cell_type": "code",
   "execution_count": 24,
   "id": "f671f6d9",
   "metadata": {},
   "outputs": [],
   "source": [
    "# sum(flight for fleet a)*sum(flight for fleet b) == 0 => chỉ được chọn 1 trong 2 fleet a hoặc b cho tất cả tần suất trong tuần"
   ]
  },
  {
   "cell_type": "code",
   "execution_count": 25,
   "id": "57a77ef1",
   "metadata": {},
   "outputs": [],
   "source": [
    "#def product_constraint(model,f):\n",
    "#    x = []\n",
    "#    for ac in ac_type:\n",
    "#        x.append(sum(assign_fleet[i] for i in data[(data['flight']==f)&(data['AC']==ac)]['index']))\n",
    "#    return np.prod(x) == 0"
   ]
  },
  {
   "cell_type": "code",
   "execution_count": 26,
   "id": "c6603cae",
   "metadata": {},
   "outputs": [
    {
     "ename": "NameError",
     "evalue": "name 'product_constraint' is not defined",
     "output_type": "error",
     "traceback": [
      "\u001b[1;31m---------------------------------------------------------------------------\u001b[0m",
      "\u001b[1;31mNameError\u001b[0m                                 Traceback (most recent call last)",
      "\u001b[1;32mC:\\Users\\NAMTRA~1\\AppData\\Local\\Temp/ipykernel_7788/3768766991.py\u001b[0m in \u001b[0;36m<module>\u001b[1;34m\u001b[0m\n\u001b[1;32m----> 1\u001b[1;33m \u001b[0mmodel\u001b[0m\u001b[1;33m.\u001b[0m\u001b[0mproduct_constraint\u001b[0m \u001b[1;33m=\u001b[0m \u001b[0mpyo\u001b[0m\u001b[1;33m.\u001b[0m\u001b[0mConstraint\u001b[0m\u001b[1;33m(\u001b[0m\u001b[0mflight_no\u001b[0m\u001b[1;33m,\u001b[0m \u001b[0mrule\u001b[0m \u001b[1;33m=\u001b[0m \u001b[0mproduct_constraint\u001b[0m\u001b[1;33m)\u001b[0m\u001b[1;33m\u001b[0m\u001b[1;33m\u001b[0m\u001b[0m\n\u001b[0m",
      "\u001b[1;31mNameError\u001b[0m: name 'product_constraint' is not defined"
     ]
    }
   ],
   "source": [
    "#model.product_constraint = pyo.Constraint(flight_no, rule = product_constraint)"
   ]
  },
  {
   "cell_type": "markdown",
   "id": "1efb7559",
   "metadata": {},
   "source": [
    "# 6. Objective function"
   ]
  },
  {
   "cell_type": "code",
   "execution_count": 27,
   "id": "9f5383a2",
   "metadata": {},
   "outputs": [
    {
     "name": "stdout",
     "output_type": "stream",
     "text": [
      "           0 seconds to construct Objective obj; 1 index total\n"
     ]
    }
   ],
   "source": [
    "model.obj = pyo.Objective(expr = (sum(assign_fleet[i]*data[data['index']==i]['revenue'].values[0] for i in flight_index)\n",
    "                          -sum(assign_fleet[i]*data[data['index']==i]['cost'].values[0] for i in flight_index)), sense = pyo.maximize)"
   ]
  },
  {
   "cell_type": "code",
   "execution_count": 28,
   "id": "b0126b57",
   "metadata": {},
   "outputs": [],
   "source": [
    "solver = SolverFactory('cbc', executable = \"C:\\\\Users\\\\namtrantuan\\\\Desktop\\\\FAM\\\\coin\\\\cbc.exe\")"
   ]
  },
  {
   "cell_type": "code",
   "execution_count": 29,
   "id": "5c62554c",
   "metadata": {},
   "outputs": [
    {
     "name": "stdout",
     "output_type": "stream",
     "text": [
      "Welcome to the CBC MILP Solver \n",
      "Version: 2.10.5 \n",
      "Build Date: Nov 24 2021 \n",
      "\n",
      "command line - C:\\Users\\namtrantuan\\Desktop\\FAM\\coin\\cbc.exe -printingOptions all -import C:\\Users\\NAMTRA~1\\AppData\\Local\\Temp\\tmp0fvzym68.pyomo.lp -stat=1 -solve -solu C:\\Users\\NAMTRA~1\\AppData\\Local\\Temp\\tmp0fvzym68.pyomo.soln (default strategy 1)\n",
      "Option for printingOptions changed from normal to all\n",
      " CoinLpIO::readLp(): Maximization problem reformulated as minimization\n",
      "Coin0009I Switching back to maximization to get correct duals etc\n",
      "Presolve 6699 (-28735) rows, 11639 (-28243) columns and 62984 (-88412) elements\n",
      "Statistics for presolved model\n",
      "Original problem has 39881 integers (8129 of which binary)\n",
      "Presolved problem has 11639 integers (8111 of which binary)\n",
      "==== 3567 zero objective 340 different\n",
      "==== absolute objective values 338 different\n",
      "==== for integers 3567 zero objective 340 different\n",
      "==== for integers absolute objective values 338 different\n",
      "===== end objective counts\n",
      "\n",
      "\n",
      "Problem has 6699 rows, 11639 columns (8072 with objective) and 62984 elements\n",
      "Column breakdown:\n",
      "3528 of type 0.0->inf, 0 of type 0.0->up, 0 of type lo->inf, \n",
      "0 of type lo->up, 0 of type free, 0 of type fixed, \n",
      "0 of type -inf->0.0, 0 of type -inf->up, 8111 of type 0.0->1.0 \n",
      "Row breakdown:\n",
      "3528 of type E 0.0, 0 of type E 1.0, 0 of type E -1.0, \n",
      "0 of type E other, 0 of type G 0.0, 0 of type G 1.0, \n",
      "0 of type G other, 0 of type L 0.0, 2667 of type L 1.0, \n",
      "504 of type L other, 0 of type Range 0.0->1.0, 0 of type Range other, \n",
      "0 of type Free \n",
      "Continuous objective value is 116411 - 0.44 seconds\n",
      "Cgl0004I processed model has 6684 rows, 11627 columns (11627 integer (8111 of which binary)) and 63491 elements\n",
      "Cutoff increment increased from 1e-05 to 0.00999\n",
      "Cbc0038I Initial state - 83 integers unsatisfied sum - 41.5\n",
      "Cbc0038I Pass   1: (3.16 seconds) suminf.    0.00000 (0) obj. -115613 iterations 6141\n",
      "Cbc0038I Solution found of -115613\n",
      "Cbc0038I Cleaned solution of -115613\n",
      "Cbc0038I Before mini branch and bound, 11409 integers at bound fixed and 0 continuous of which 669 were internal integer and 0 internal continuous\n",
      "Cbc0038I Full problem 6684 rows 11627 columns, reduced to 38 rows 39 columns\n",
      "Cbc0038I Mini branch and bound improved solution from -115613 to -116409 (3.23 seconds)\n",
      "Cbc0038I Round again with cutoff of -116409\n",
      "Cbc0038I Reduced cost fixing fixed 5660 variables on major pass 2\n",
      "Cbc0038I Pass   2: (3.67 seconds) suminf.   75.93862 (154) obj. -116409 iterations 1672\n",
      "Cbc0038I Pass   3: (3.79 seconds) suminf.   12.88997 (27) obj. -116409 iterations 385\n",
      "Cbc0038I Pass   4: (3.93 seconds) suminf.    9.54438 (27) obj. -116409 iterations 422\n",
      "Cbc0038I Pass   5: (3.97 seconds) suminf.    9.54438 (27) obj. -116409 iterations 98\n",
      "Cbc0038I Pass   6: (4.34 seconds) suminf.    0.75325 (115) obj. -116409 iterations 1475\n",
      "Cbc0038I Pass   7: (4.58 seconds) suminf.    0.00000 (0) obj. -116410 iterations 1002\n",
      "Cbc0038I Solution found of -116410\n",
      "Cbc0038I Cleaned solution of -116410\n",
      "Cbc0038I Before mini branch and bound, 11348 integers at bound fixed and 0 continuous of which 662 were internal integer and 0 internal continuous\n",
      "Cbc0038I Full problem 6684 rows 11627 columns, reduced to 36 rows 34 columns\n",
      "Cbc0038I Mini branch and bound did not improve solution (4.65 seconds)\n",
      "Cbc0038I Round again with cutoff of -116410\n",
      "Cbc0038I Reduced cost fixing fixed 5876 variables on major pass 3\n",
      "Cbc0038I Pass   8: (4.68 seconds) suminf.   75.97091 (154) obj. -116410 iterations 49\n",
      "Cbc0038I Pass   9: (4.83 seconds) suminf.   56.74574 (221) obj. -116410 iterations 611\n",
      "Cbc0038I Pass  10: (4.87 seconds) suminf.   54.94397 (172) obj. -116410 iterations 101\n",
      "Cbc0038I Pass  11: (4.91 seconds) suminf.   55.50483 (236) obj. -116410 iterations 86\n",
      "Cbc0038I Pass  12: (4.94 seconds) suminf.   24.16045 (123) obj. -116410 iterations 70\n",
      "Cbc0038I Pass  13: (4.96 seconds) suminf.   24.16045 (123) obj. -116410 iterations 28\n",
      "Cbc0038I Pass  14: (5.10 seconds) suminf.   23.97897 (50) obj. -116410 iterations 357\n",
      "Cbc0038I Pass  15: (5.13 seconds) suminf.   23.97897 (50) obj. -116410 iterations 52\n",
      "Cbc0038I Pass  16: (5.20 seconds) suminf.   24.61904 (124) obj. -116410 iterations 260\n",
      "Cbc0038I Pass  17: (5.32 seconds) suminf.   24.61904 (124) obj. -116410 iterations 57\n",
      "Cbc0038I Pass  18: (5.35 seconds) suminf.   24.15511 (122) obj. -116410 iterations 53\n",
      "Cbc0038I Pass  19: (5.38 seconds) suminf.   24.15511 (122) obj. -116410 iterations 25\n",
      "Cbc0038I Pass  20: (5.45 seconds) suminf.   24.61904 (124) obj. -116410 iterations 154\n",
      "Cbc0038I Pass  21: (5.47 seconds) suminf.   24.61904 (124) obj. -116410 iterations 34\n",
      "Cbc0038I Pass  22: (5.48 seconds) suminf.   24.61904 (124) obj. -116410 iterations 4\n",
      "Cbc0038I Pass  23: (5.50 seconds) suminf.   24.61904 (124) obj. -116410 iterations 6\n",
      "Cbc0038I Pass  24: (5.77 seconds) suminf.   10.15027 (62) obj. -116410 iterations 885\n",
      "Cbc0038I Pass  25: (5.80 seconds) suminf.   13.13850 (109) obj. -116410 iterations 79\n",
      "Cbc0038I Pass  26: (5.94 seconds) suminf.   45.43766 (99) obj. -116410 iterations 405\n",
      "Cbc0038I Pass  27: (6.03 seconds) suminf.   24.34641 (73) obj. -116410 iterations 230\n",
      "Cbc0038I Pass  28: (6.05 seconds) suminf.   24.34641 (73) obj. -116410 iterations 32\n",
      "Cbc0038I Pass  29: (6.07 seconds) suminf.   24.34641 (73) obj. -116410 iterations 11\n",
      "Cbc0038I Pass  30: (6.13 seconds) suminf.   12.28717 (70) obj. -116410 iterations 156\n",
      "Cbc0038I Pass  31: (6.15 seconds) suminf.   14.38978 (115) obj. -116410 iterations 25\n",
      "Cbc0038I Pass  32: (6.18 seconds) suminf.   14.38978 (115) obj. -116410 iterations 71\n",
      "Cbc0038I Pass  33: (6.23 seconds) suminf.   14.38978 (115) obj. -116410 iterations 130\n",
      "Cbc0038I Pass  34: (6.25 seconds) suminf.   14.38978 (115) obj. -116410 iterations 38\n",
      "Cbc0038I Pass  35: (6.27 seconds) suminf.   14.38978 (115) obj. -116410 iterations 27\n",
      "Cbc0038I Pass  36: (6.48 seconds) suminf.   46.29151 (212) obj. -116410 iterations 772\n",
      "Cbc0038I Pass  37: (6.64 seconds) suminf.   46.32019 (194) obj. -116410 iterations 501\n",
      "Cbc0038I No solution found this major pass\n",
      "Cbc0038I Before mini branch and bound, 11076 integers at bound fixed and 0 continuous of which 488 were internal integer and 0 internal continuous\n",
      "Cbc0038I Full problem 6684 rows 11627 columns, reduced to 91 rows 75 columns\n",
      "Cbc0038I Mini branch and bound did not improve solution (6.71 seconds)\n",
      "Cbc0038I After 6.71 seconds - Feasibility pump exiting with objective of -116410 - took 5.57 seconds\n",
      "Cbc0012I Integer solution of -116409.76 found by feasibility pump after 0 iterations and 0 nodes (6.71 seconds)\n",
      "Cbc0013I At root node, 0 cuts changed objective from -116410.7 to -116410.7 in 2 passes\n",
      "Cbc0014I Cut generator 0 (Probing) - 0 row cuts average 0.0 elements, 250 column cuts (250 active)  in 0.065 seconds - new frequency is 1\n",
      "Cbc0014I Cut generator 1 (Gomory) - 0 row cuts average 0.0 elements, 0 column cuts (0 active)  in 0.021 seconds - new frequency is -100\n",
      "Cbc0014I Cut generator 2 (Knapsack) - 0 row cuts average 0.0 elements, 0 column cuts (0 active)  in 0.023 seconds - new frequency is -100\n",
      "Cbc0014I Cut generator 3 (Clique) - 0 row cuts average 0.0 elements, 0 column cuts (0 active)  in 0.000 seconds - new frequency is -100\n",
      "Cbc0014I Cut generator 4 (MixedIntegerRounding2) - 0 row cuts average 0.0 elements, 0 column cuts (0 active)  in 0.007 seconds - new frequency is -100\n",
      "Cbc0014I Cut generator 5 (FlowCover) - 0 row cuts average 0.0 elements, 0 column cuts (0 active)  in 0.004 seconds - new frequency is -100\n",
      "Cbc0001I Search completed - best objective -116409.7600000012, took 25 iterations and 0 nodes (7.08 seconds)\n",
      "Cbc0032I Strong branching done 2 times (59 iterations), fathomed 1 nodes and fixed 0 variables\n",
      "Cbc0035I Maximum depth 0, 4818 variables fixed on reduced cost\n",
      "Cuts at root node changed objective from -116411 to -116365\n",
      "Probing was tried 2 times and created 250 cuts of which 0 were active after adding rounds of cuts (0.065 seconds)\n",
      "Gomory was tried 2 times and created 0 cuts of which 0 were active after adding rounds of cuts (0.021 seconds)\n",
      "Knapsack was tried 2 times and created 0 cuts of which 0 were active after adding rounds of cuts (0.023 seconds)\n",
      "Clique was tried 2 times and created 0 cuts of which 0 were active after adding rounds of cuts (0.000 seconds)\n",
      "MixedIntegerRounding2 was tried 2 times and created 0 cuts of which 0 were active after adding rounds of cuts (0.007 seconds)\n",
      "FlowCover was tried 2 times and created 0 cuts of which 0 were active after adding rounds of cuts (0.004 seconds)\n",
      "TwoMirCuts was tried 1 times and created 0 cuts of which 0 were active after adding rounds of cuts (0.017 seconds)\n",
      "ZeroHalf was tried 1 times and created 0 cuts of which 0 were active after adding rounds of cuts (0.075 seconds)\n",
      "\n",
      "Result - Optimal solution found\n",
      "\n",
      "Objective value:                116409.76000000\n",
      "Enumerated nodes:               0\n",
      "Total iterations:               25\n",
      "Time (CPU seconds):             7.25\n",
      "Time (Wallclock seconds):       7.25\n",
      "\n",
      "Total time (CPU seconds):       7.73   (Wallclock seconds):       7.73\n",
      "\n"
     ]
    },
    {
     "ename": "TypeError",
     "evalue": "'<' not supported between instances of 'NoneType' and 'tuple'",
     "output_type": "error",
     "traceback": [
      "\u001b[1;31m---------------------------------------------------------------------------\u001b[0m",
      "\u001b[1;31mTypeError\u001b[0m                                 Traceback (most recent call last)",
      "\u001b[1;32mC:\\Users\\NAMTRA~1\\AppData\\Local\\Temp/ipykernel_7788/2477978155.py\u001b[0m in \u001b[0;36m<module>\u001b[1;34m\u001b[0m\n\u001b[1;32m----> 1\u001b[1;33m \u001b[0mresults\u001b[0m \u001b[1;33m=\u001b[0m \u001b[0msolver\u001b[0m\u001b[1;33m.\u001b[0m\u001b[0msolve\u001b[0m\u001b[1;33m(\u001b[0m\u001b[0mmodel\u001b[0m\u001b[1;33m,\u001b[0m \u001b[0mtee\u001b[0m\u001b[1;33m=\u001b[0m\u001b[1;32mTrue\u001b[0m\u001b[1;33m)\u001b[0m\u001b[1;33m\u001b[0m\u001b[1;33m\u001b[0m\u001b[0m\n\u001b[0m",
      "\u001b[1;32m~\\Anaconda3\\lib\\site-packages\\pyomo\\opt\\base\\solvers.py\u001b[0m in \u001b[0;36msolve\u001b[1;34m(self, *args, **kwds)\u001b[0m\n\u001b[0;32m    599\u001b[0m                 \u001b[0mprint\u001b[0m\u001b[1;33m(\u001b[0m\u001b[1;34m\"      %6.2f seconds required for solver\"\u001b[0m \u001b[1;33m%\u001b[0m \u001b[1;33m(\u001b[0m\u001b[0msolve_completion_time\u001b[0m \u001b[1;33m-\u001b[0m \u001b[0mpresolve_completion_time\u001b[0m\u001b[1;33m)\u001b[0m\u001b[1;33m)\u001b[0m\u001b[1;33m\u001b[0m\u001b[1;33m\u001b[0m\u001b[0m\n\u001b[0;32m    600\u001b[0m \u001b[1;33m\u001b[0m\u001b[0m\n\u001b[1;32m--> 601\u001b[1;33m             \u001b[0mresult\u001b[0m \u001b[1;33m=\u001b[0m \u001b[0mself\u001b[0m\u001b[1;33m.\u001b[0m\u001b[0m_postsolve\u001b[0m\u001b[1;33m(\u001b[0m\u001b[1;33m)\u001b[0m\u001b[1;33m\u001b[0m\u001b[1;33m\u001b[0m\u001b[0m\n\u001b[0m\u001b[0;32m    602\u001b[0m             \u001b[0mresult\u001b[0m\u001b[1;33m.\u001b[0m\u001b[0m_smap_id\u001b[0m \u001b[1;33m=\u001b[0m \u001b[0mself\u001b[0m\u001b[1;33m.\u001b[0m\u001b[0m_smap_id\u001b[0m\u001b[1;33m\u001b[0m\u001b[1;33m\u001b[0m\u001b[0m\n\u001b[0;32m    603\u001b[0m             \u001b[0mresult\u001b[0m\u001b[1;33m.\u001b[0m\u001b[0m_smap\u001b[0m \u001b[1;33m=\u001b[0m \u001b[1;32mNone\u001b[0m\u001b[1;33m\u001b[0m\u001b[1;33m\u001b[0m\u001b[0m\n",
      "\u001b[1;32m~\\Anaconda3\\lib\\site-packages\\pyomo\\solvers\\plugins\\solvers\\CBCplugin.py\u001b[0m in \u001b[0;36m_postsolve\u001b[1;34m(self)\u001b[0m\n\u001b[0;32m    896\u001b[0m \u001b[1;33m\u001b[0m\u001b[0m\n\u001b[0;32m    897\u001b[0m         \u001b[1;31m# let the base class deal with returning results.\u001b[0m\u001b[1;33m\u001b[0m\u001b[1;33m\u001b[0m\u001b[0m\n\u001b[1;32m--> 898\u001b[1;33m         \u001b[0mresults\u001b[0m \u001b[1;33m=\u001b[0m \u001b[0msuper\u001b[0m\u001b[1;33m(\u001b[0m\u001b[0mCBCSHELL\u001b[0m\u001b[1;33m,\u001b[0m \u001b[0mself\u001b[0m\u001b[1;33m)\u001b[0m\u001b[1;33m.\u001b[0m\u001b[0m_postsolve\u001b[0m\u001b[1;33m(\u001b[0m\u001b[1;33m)\u001b[0m\u001b[1;33m\u001b[0m\u001b[1;33m\u001b[0m\u001b[0m\n\u001b[0m\u001b[0;32m    899\u001b[0m \u001b[1;33m\u001b[0m\u001b[0m\n\u001b[0;32m    900\u001b[0m         \u001b[1;31m# finally, clean any temporary files registered with the temp file\u001b[0m\u001b[1;33m\u001b[0m\u001b[1;33m\u001b[0m\u001b[0m\n",
      "\u001b[1;32m~\\Anaconda3\\lib\\site-packages\\pyomo\\opt\\solver\\shellcmd.py\u001b[0m in \u001b[0;36m_postsolve\u001b[1;34m(self)\u001b[0m\n\u001b[0;32m    275\u001b[0m \u001b[1;33m\u001b[0m\u001b[0m\n\u001b[0;32m    276\u001b[0m         \u001b[1;32mif\u001b[0m \u001b[0mself\u001b[0m\u001b[1;33m.\u001b[0m\u001b[0m_results_format\u001b[0m \u001b[1;32mis\u001b[0m \u001b[1;32mnot\u001b[0m \u001b[1;32mNone\u001b[0m\u001b[1;33m:\u001b[0m\u001b[1;33m\u001b[0m\u001b[1;33m\u001b[0m\u001b[0m\n\u001b[1;32m--> 277\u001b[1;33m             \u001b[0mresults\u001b[0m \u001b[1;33m=\u001b[0m \u001b[0mself\u001b[0m\u001b[1;33m.\u001b[0m\u001b[0mprocess_output\u001b[0m\u001b[1;33m(\u001b[0m\u001b[0mself\u001b[0m\u001b[1;33m.\u001b[0m\u001b[0m_rc\u001b[0m\u001b[1;33m)\u001b[0m\u001b[1;33m\u001b[0m\u001b[1;33m\u001b[0m\u001b[0m\n\u001b[0m\u001b[0;32m    278\u001b[0m             \u001b[1;31m#\u001b[0m\u001b[1;33m\u001b[0m\u001b[1;33m\u001b[0m\u001b[0m\n\u001b[0;32m    279\u001b[0m             \u001b[1;31m# If keepfiles is true, then we pop the\u001b[0m\u001b[1;33m\u001b[0m\u001b[1;33m\u001b[0m\u001b[0m\n",
      "\u001b[1;32m~\\Anaconda3\\lib\\site-packages\\pyomo\\opt\\solver\\shellcmd.py\u001b[0m in \u001b[0;36mprocess_output\u001b[1;34m(self, rc)\u001b[0m\n\u001b[0;32m    348\u001b[0m         \u001b[1;32mif\u001b[0m \u001b[0mself\u001b[0m\u001b[1;33m.\u001b[0m\u001b[0m_results_format\u001b[0m \u001b[1;32mis\u001b[0m \u001b[1;32mNone\u001b[0m\u001b[1;33m:\u001b[0m\u001b[1;33m\u001b[0m\u001b[1;33m\u001b[0m\u001b[0m\n\u001b[0;32m    349\u001b[0m             \u001b[1;32mraise\u001b[0m \u001b[0mValueError\u001b[0m\u001b[1;33m(\u001b[0m\u001b[1;34m\"Results format is None\"\u001b[0m\u001b[1;33m)\u001b[0m\u001b[1;33m\u001b[0m\u001b[1;33m\u001b[0m\u001b[0m\n\u001b[1;32m--> 350\u001b[1;33m         \u001b[0mresults\u001b[0m \u001b[1;33m=\u001b[0m \u001b[0mself\u001b[0m\u001b[1;33m.\u001b[0m\u001b[0mprocess_logfile\u001b[0m\u001b[1;33m(\u001b[0m\u001b[1;33m)\u001b[0m\u001b[1;33m\u001b[0m\u001b[1;33m\u001b[0m\u001b[0m\n\u001b[0m\u001b[0;32m    351\u001b[0m         \u001b[0mlog_file_completion_time\u001b[0m \u001b[1;33m=\u001b[0m \u001b[0mtime\u001b[0m\u001b[1;33m.\u001b[0m\u001b[0mtime\u001b[0m\u001b[1;33m(\u001b[0m\u001b[1;33m)\u001b[0m\u001b[1;33m\u001b[0m\u001b[1;33m\u001b[0m\u001b[0m\n\u001b[0;32m    352\u001b[0m         \u001b[1;32mif\u001b[0m \u001b[0mself\u001b[0m\u001b[1;33m.\u001b[0m\u001b[0m_report_timing\u001b[0m \u001b[1;32mis\u001b[0m \u001b[1;32mTrue\u001b[0m\u001b[1;33m:\u001b[0m\u001b[1;33m\u001b[0m\u001b[1;33m\u001b[0m\u001b[0m\n",
      "\u001b[1;32m~\\Anaconda3\\lib\\site-packages\\pyomo\\solvers\\plugins\\solvers\\CBCplugin.py\u001b[0m in \u001b[0;36mprocess_logfile\u001b[1;34m(self)\u001b[0m\n\u001b[0;32m    666\u001b[0m             \u001b[0mupper_bound\u001b[0m \u001b[1;33m=\u001b[0m \u001b[0moptim_value\u001b[0m\u001b[1;33m\u001b[0m\u001b[1;33m\u001b[0m\u001b[0m\n\u001b[0;32m    667\u001b[0m         \u001b[1;32melif\u001b[0m \u001b[0mresults\u001b[0m\u001b[1;33m.\u001b[0m\u001b[0mproblem\u001b[0m\u001b[1;33m.\u001b[0m\u001b[0msense\u001b[0m \u001b[1;33m==\u001b[0m \u001b[0mProblemSense\u001b[0m\u001b[1;33m.\u001b[0m\u001b[0mmaximize\u001b[0m\u001b[1;33m:\u001b[0m\u001b[1;33m\u001b[0m\u001b[1;33m\u001b[0m\u001b[0m\n\u001b[1;32m--> 668\u001b[1;33m             \u001b[1;32mif\u001b[0m \u001b[0mself\u001b[0m\u001b[1;33m.\u001b[0m\u001b[0mversion\u001b[0m\u001b[1;33m(\u001b[0m\u001b[1;33m)\u001b[0m \u001b[1;33m<\u001b[0m \u001b[1;33m(\u001b[0m\u001b[1;36m2\u001b[0m\u001b[1;33m,\u001b[0m \u001b[1;36m10\u001b[0m\u001b[1;33m,\u001b[0m \u001b[1;36m2\u001b[0m\u001b[1;33m)\u001b[0m\u001b[1;33m:\u001b[0m\u001b[1;33m\u001b[0m\u001b[1;33m\u001b[0m\u001b[0m\n\u001b[0m\u001b[0;32m    669\u001b[0m                 \u001b[0moptim_value\u001b[0m \u001b[1;33m*=\u001b[0m \u001b[1;33m-\u001b[0m\u001b[1;36m1\u001b[0m\u001b[1;33m\u001b[0m\u001b[1;33m\u001b[0m\u001b[0m\n\u001b[0;32m    670\u001b[0m                 \u001b[0mupper_bound\u001b[0m \u001b[1;33m=\u001b[0m \u001b[1;32mNone\u001b[0m \u001b[1;32mif\u001b[0m \u001b[0mlower_bound\u001b[0m \u001b[1;32mis\u001b[0m \u001b[1;32mNone\u001b[0m \u001b[1;32melse\u001b[0m \u001b[1;33m-\u001b[0m\u001b[0mlower_bound\u001b[0m\u001b[1;33m\u001b[0m\u001b[1;33m\u001b[0m\u001b[0m\n",
      "\u001b[1;31mTypeError\u001b[0m: '<' not supported between instances of 'NoneType' and 'tuple'"
     ]
    }
   ],
   "source": [
    "results = solver.solve(model, tee=True)"
   ]
  },
  {
   "cell_type": "markdown",
   "id": "936a005d",
   "metadata": {},
   "source": [
    "# 7. Results"
   ]
  },
  {
   "cell_type": "code",
   "execution_count": null,
   "id": "8a360aed",
   "metadata": {},
   "outputs": [],
   "source": [
    "model.pprint()"
   ]
  },
  {
   "cell_type": "code",
   "execution_count": null,
   "id": "62df0d09",
   "metadata": {},
   "outputs": [],
   "source": [
    "results.solver.status"
   ]
  },
  {
   "cell_type": "code",
   "execution_count": null,
   "id": "5285a854",
   "metadata": {},
   "outputs": [],
   "source": [
    "results.solver.termination_condition"
   ]
  },
  {
   "cell_type": "code",
   "execution_count": null,
   "id": "6482aed5",
   "metadata": {},
   "outputs": [],
   "source": [
    "optimal_values = [value(assign_fleet[i]) for i in assign_fleet]"
   ]
  },
  {
   "cell_type": "code",
   "execution_count": null,
   "id": "8667388e",
   "metadata": {},
   "outputs": [],
   "source": [
    "time_nodes_data = {(a,d,h,ac, v.name): value(v) for (a,d,h,ac), v in time_nodes.items()}\n",
    "df_time_nodes = pd.DataFrame.from_dict(park_time_nodes, orient=\"index\", columns=[\"variable value\"])\n",
    "df_time_nodes.reset_index(inplace = True)\n",
    "print(df_time_nodes)"
   ]
  },
  {
   "cell_type": "code",
   "execution_count": null,
   "id": "35bd9e6f",
   "metadata": {},
   "outputs": [],
   "source": [
    "df_assign_fleet = pd.DataFrame.from_dict(assign_fleet.extract_values(), orient='index', columns=[str(assign_fleet)])\n",
    "df_assign_fleet.reset_index(inplace = True)\n",
    "print(df_assign_fleet)"
   ]
  },
  {
   "cell_type": "code",
   "execution_count": null,
   "id": "97b9d80c",
   "metadata": {},
   "outputs": [],
   "source": [
    "result = data.merge(df_assign_fleet, on = 'index')"
   ]
  },
  {
   "cell_type": "code",
   "execution_count": null,
   "id": "d1f72f53",
   "metadata": {},
   "outputs": [],
   "source": [
    "result.to_excel('result.xlsx')"
   ]
  },
  {
   "cell_type": "code",
   "execution_count": null,
   "id": "2f535176",
   "metadata": {},
   "outputs": [],
   "source": [
    "df_time_nodes.to_excel('time_nodes.xlsx')"
   ]
  }
 ],
 "metadata": {
  "kernelspec": {
   "display_name": "Python 3 (ipykernel)",
   "language": "python",
   "name": "python3"
  },
  "language_info": {
   "codemirror_mode": {
    "name": "ipython",
    "version": 3
   },
   "file_extension": ".py",
   "mimetype": "text/x-python",
   "name": "python",
   "nbconvert_exporter": "python",
   "pygments_lexer": "ipython3",
   "version": "3.9.7"
  }
 },
 "nbformat": 4,
 "nbformat_minor": 5
}
