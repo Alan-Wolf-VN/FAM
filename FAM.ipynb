{
 "cells": [
  {
   "cell_type": "markdown",
   "id": "51e2cd17",
   "metadata": {},
   "source": [
    "# 1. Import data"
   ]
  },
  {
   "cell_type": "code",
   "execution_count": 1,
   "id": "03694440",
   "metadata": {},
   "outputs": [],
   "source": [
    "import pandas as pd\n",
    "import numpy as np\n",
    "import pyomo.environ as pyo\n",
    "from pyomo.environ import *\n",
    "from pyomo.opt import SolverFactory"
   ]
  },
  {
   "cell_type": "code",
   "execution_count": 2,
   "id": "4872cc54",
   "metadata": {},
   "outputs": [],
   "source": [
    "data = pd.read_excel('data.xlsx')"
   ]
  },
  {
   "cell_type": "code",
   "execution_count": 3,
   "id": "64eeef86",
   "metadata": {},
   "outputs": [
    {
     "data": {
      "text/html": [
       "<div>\n",
       "<style scoped>\n",
       "    .dataframe tbody tr th:only-of-type {\n",
       "        vertical-align: middle;\n",
       "    }\n",
       "\n",
       "    .dataframe tbody tr th {\n",
       "        vertical-align: top;\n",
       "    }\n",
       "\n",
       "    .dataframe thead th {\n",
       "        text-align: right;\n",
       "    }\n",
       "</style>\n",
       "<table border=\"1\" class=\"dataframe\">\n",
       "  <thead>\n",
       "    <tr style=\"text-align: right;\">\n",
       "      <th></th>\n",
       "      <th>index</th>\n",
       "      <th>sector</th>\n",
       "      <th>from</th>\n",
       "      <th>to</th>\n",
       "      <th>flight</th>\n",
       "      <th>AC</th>\n",
       "      <th>DOW</th>\n",
       "      <th>ETD</th>\n",
       "      <th>ETA</th>\n",
       "      <th>revenue</th>\n",
       "      <th>cost</th>\n",
       "    </tr>\n",
       "  </thead>\n",
       "  <tbody>\n",
       "    <tr>\n",
       "      <th>0</th>\n",
       "      <td>0V8002AT71</td>\n",
       "      <td>VKGSGN</td>\n",
       "      <td>VKG</td>\n",
       "      <td>SGN</td>\n",
       "      <td>0V8002</td>\n",
       "      <td>AT7</td>\n",
       "      <td>1</td>\n",
       "      <td>7.083333</td>\n",
       "      <td>8.000000</td>\n",
       "      <td>58.491358</td>\n",
       "      <td>66.778573</td>\n",
       "    </tr>\n",
       "    <tr>\n",
       "      <th>1</th>\n",
       "      <td>0V8003AT71</td>\n",
       "      <td>SGNVKG</td>\n",
       "      <td>SGN</td>\n",
       "      <td>VKG</td>\n",
       "      <td>0V8003</td>\n",
       "      <td>AT7</td>\n",
       "      <td>1</td>\n",
       "      <td>5.916667</td>\n",
       "      <td>6.750000</td>\n",
       "      <td>59.888629</td>\n",
       "      <td>55.518596</td>\n",
       "    </tr>\n",
       "    <tr>\n",
       "      <th>2</th>\n",
       "      <td>0V8014AT71</td>\n",
       "      <td>VCAPQC</td>\n",
       "      <td>VCA</td>\n",
       "      <td>PQC</td>\n",
       "      <td>0V8014</td>\n",
       "      <td>AT7</td>\n",
       "      <td>1</td>\n",
       "      <td>11.750000</td>\n",
       "      <td>12.666667</td>\n",
       "      <td>69.767380</td>\n",
       "      <td>68.335595</td>\n",
       "    </tr>\n",
       "    <tr>\n",
       "      <th>3</th>\n",
       "      <td>0V8015AT71</td>\n",
       "      <td>PQCVCA</td>\n",
       "      <td>PQC</td>\n",
       "      <td>VCA</td>\n",
       "      <td>0V8015</td>\n",
       "      <td>AT7</td>\n",
       "      <td>1</td>\n",
       "      <td>13.166667</td>\n",
       "      <td>14.083333</td>\n",
       "      <td>52.035689</td>\n",
       "      <td>67.313081</td>\n",
       "    </tr>\n",
       "    <tr>\n",
       "      <th>4</th>\n",
       "      <td>0V8050AT71</td>\n",
       "      <td>VCSSGN</td>\n",
       "      <td>VCS</td>\n",
       "      <td>SGN</td>\n",
       "      <td>0V8050</td>\n",
       "      <td>AT7</td>\n",
       "      <td>1</td>\n",
       "      <td>7.250000</td>\n",
       "      <td>8.333333</td>\n",
       "      <td>80.781672</td>\n",
       "      <td>69.741119</td>\n",
       "    </tr>\n",
       "    <tr>\n",
       "      <th>...</th>\n",
       "      <td>...</td>\n",
       "      <td>...</td>\n",
       "      <td>...</td>\n",
       "      <td>...</td>\n",
       "      <td>...</td>\n",
       "      <td>...</td>\n",
       "      <td>...</td>\n",
       "      <td>...</td>\n",
       "      <td>...</td>\n",
       "      <td>...</td>\n",
       "      <td>...</td>\n",
       "    </tr>\n",
       "    <tr>\n",
       "      <th>527</th>\n",
       "      <td>0V8205RJ7</td>\n",
       "      <td>DINHAN</td>\n",
       "      <td>DIN</td>\n",
       "      <td>HAN</td>\n",
       "      <td>0V8205</td>\n",
       "      <td>RJ</td>\n",
       "      <td>7</td>\n",
       "      <td>15.500000</td>\n",
       "      <td>16.500000</td>\n",
       "      <td>98.164344</td>\n",
       "      <td>115.346808</td>\n",
       "    </tr>\n",
       "    <tr>\n",
       "      <th>528</th>\n",
       "      <td>0V8312RJ7</td>\n",
       "      <td>VIIHAN</td>\n",
       "      <td>VII</td>\n",
       "      <td>HAN</td>\n",
       "      <td>0V8312</td>\n",
       "      <td>RJ</td>\n",
       "      <td>7</td>\n",
       "      <td>9.333333</td>\n",
       "      <td>10.333333</td>\n",
       "      <td>70.981991</td>\n",
       "      <td>113.599880</td>\n",
       "    </tr>\n",
       "    <tr>\n",
       "      <th>529</th>\n",
       "      <td>0V8313RJ7</td>\n",
       "      <td>HANVII</td>\n",
       "      <td>HAN</td>\n",
       "      <td>VII</td>\n",
       "      <td>0V8313</td>\n",
       "      <td>RJ</td>\n",
       "      <td>7</td>\n",
       "      <td>8.000000</td>\n",
       "      <td>9.000000</td>\n",
       "      <td>100.618345</td>\n",
       "      <td>113.264948</td>\n",
       "    </tr>\n",
       "    <tr>\n",
       "      <th>530</th>\n",
       "      <td>0V8592RJ7</td>\n",
       "      <td>VDHHAN</td>\n",
       "      <td>VDH</td>\n",
       "      <td>HAN</td>\n",
       "      <td>0V8592</td>\n",
       "      <td>RJ</td>\n",
       "      <td>7</td>\n",
       "      <td>19.166667</td>\n",
       "      <td>20.500000</td>\n",
       "      <td>102.218063</td>\n",
       "      <td>158.214947</td>\n",
       "    </tr>\n",
       "    <tr>\n",
       "      <th>531</th>\n",
       "      <td>0V8593RJ7</td>\n",
       "      <td>HANVDH</td>\n",
       "      <td>HAN</td>\n",
       "      <td>VDH</td>\n",
       "      <td>0V8593</td>\n",
       "      <td>RJ</td>\n",
       "      <td>7</td>\n",
       "      <td>17.333333</td>\n",
       "      <td>18.833333</td>\n",
       "      <td>113.542610</td>\n",
       "      <td>158.905366</td>\n",
       "    </tr>\n",
       "  </tbody>\n",
       "</table>\n",
       "<p>532 rows × 11 columns</p>\n",
       "</div>"
      ],
      "text/plain": [
       "          index  sector from   to  flight   AC  DOW        ETD        ETA  \\\n",
       "0    0V8002AT71  VKGSGN  VKG  SGN  0V8002  AT7    1   7.083333   8.000000   \n",
       "1    0V8003AT71  SGNVKG  SGN  VKG  0V8003  AT7    1   5.916667   6.750000   \n",
       "2    0V8014AT71  VCAPQC  VCA  PQC  0V8014  AT7    1  11.750000  12.666667   \n",
       "3    0V8015AT71  PQCVCA  PQC  VCA  0V8015  AT7    1  13.166667  14.083333   \n",
       "4    0V8050AT71  VCSSGN  VCS  SGN  0V8050  AT7    1   7.250000   8.333333   \n",
       "..          ...     ...  ...  ...     ...  ...  ...        ...        ...   \n",
       "527   0V8205RJ7  DINHAN  DIN  HAN  0V8205   RJ    7  15.500000  16.500000   \n",
       "528   0V8312RJ7  VIIHAN  VII  HAN  0V8312   RJ    7   9.333333  10.333333   \n",
       "529   0V8313RJ7  HANVII  HAN  VII  0V8313   RJ    7   8.000000   9.000000   \n",
       "530   0V8592RJ7  VDHHAN  VDH  HAN  0V8592   RJ    7  19.166667  20.500000   \n",
       "531   0V8593RJ7  HANVDH  HAN  VDH  0V8593   RJ    7  17.333333  18.833333   \n",
       "\n",
       "        revenue        cost  \n",
       "0     58.491358   66.778573  \n",
       "1     59.888629   55.518596  \n",
       "2     69.767380   68.335595  \n",
       "3     52.035689   67.313081  \n",
       "4     80.781672   69.741119  \n",
       "..          ...         ...  \n",
       "527   98.164344  115.346808  \n",
       "528   70.981991  113.599880  \n",
       "529  100.618345  113.264948  \n",
       "530  102.218063  158.214947  \n",
       "531  113.542610  158.905366  \n",
       "\n",
       "[532 rows x 11 columns]"
      ]
     },
     "execution_count": 3,
     "metadata": {},
     "output_type": "execute_result"
    }
   ],
   "source": [
    "data"
   ]
  },
  {
   "cell_type": "code",
   "execution_count": 4,
   "id": "3f612575",
   "metadata": {},
   "outputs": [],
   "source": [
    "# tạo dictionary về số tàu bay đã thuê mua:\n",
    "fleet = {'AT7':6, 'RJ':10}"
   ]
  },
  {
   "cell_type": "markdown",
   "id": "61bdc578",
   "metadata": {},
   "source": [
    "# 2. Sets"
   ]
  },
  {
   "cell_type": "code",
   "execution_count": 5,
   "id": "6e40c663",
   "metadata": {},
   "outputs": [],
   "source": [
    "model = pyo.ConcreteModel()"
   ]
  },
  {
   "cell_type": "code",
   "execution_count": 6,
   "id": "959383ce",
   "metadata": {},
   "outputs": [],
   "source": [
    "# create set of sector\n",
    "# note: lam the nao de biet chuyen chieu di nao tuong ung voi chuyen chieu ve? co can tuong ung ko?\n",
    "model.sector = pyo.Set(initialize = data['sector'].unique())\n",
    "sector = model.sector"
   ]
  },
  {
   "cell_type": "code",
   "execution_count": 7,
   "id": "63035c95",
   "metadata": {},
   "outputs": [],
   "source": [
    "# create set of aircraft type\n",
    "model.ac_type = pyo.Set(initialize = data['AC'].unique())\n",
    "ac_type = model.ac_type"
   ]
  },
  {
   "cell_type": "code",
   "execution_count": 8,
   "id": "fb2d87dc",
   "metadata": {},
   "outputs": [],
   "source": [
    "# create set of flight no\n",
    "model.flight_no = pyo.Set(initialize = data['flight'].unique())\n",
    "flight_no = model.flight_no"
   ]
  },
  {
   "cell_type": "code",
   "execution_count": 9,
   "id": "c8cfd7c7",
   "metadata": {},
   "outputs": [],
   "source": [
    "# create set of DOW\n",
    "model.DOW = pyo.Set(initialize = range(1,8), domain = PositiveIntegers)\n",
    "DOW = model.DOW"
   ]
  },
  {
   "cell_type": "code",
   "execution_count": 10,
   "id": "68501b60",
   "metadata": {},
   "outputs": [],
   "source": [
    "# create set of hour\n",
    "model.hour = pyo.Set(initialize = range(0,24), domain = NonNegativeIntegers)\n",
    "hour = model.hour"
   ]
  },
  {
   "cell_type": "code",
   "execution_count": 11,
   "id": "506a33a5",
   "metadata": {},
   "outputs": [],
   "source": [
    "# create set of airport\n",
    "airport_from = data['from'].unique()\n",
    "airport_to = data['to'].unique()\n",
    "airport_set = set(np.concatenate((airport_from,airport_to)))\n",
    "model.airport = pyo.Set(initialize = airport_set, ordered = False)\n",
    "airport = model.airport"
   ]
  },
  {
   "cell_type": "code",
   "execution_count": 12,
   "id": "0cd8a3f7",
   "metadata": {},
   "outputs": [],
   "source": [
    "# Tạo 1 set để làm index các chuyến bay: số hiệu + AC + DOW\n",
    "model.flight_index = pyo.Set(initialize = data['index'])\n",
    "flight_index = model.flight_index"
   ]
  },
  {
   "cell_type": "markdown",
   "id": "14265806",
   "metadata": {},
   "source": [
    "# 3. Parameters"
   ]
  },
  {
   "cell_type": "markdown",
   "id": "3769d202",
   "metadata": {},
   "source": [
    "# 4. Variables"
   ]
  },
  {
   "cell_type": "code",
   "execution_count": 13,
   "id": "2bcab95c",
   "metadata": {},
   "outputs": [],
   "source": [
    "model.assign_fleet = pyo.Var(flight_index, within = Binary, initialize = 0)\n",
    "assign_fleet = model.assign_fleet"
   ]
  },
  {
   "cell_type": "code",
   "execution_count": 14,
   "id": "39b2e905",
   "metadata": {},
   "outputs": [],
   "source": [
    "model.park_ac = pyo.Var(airport, DOW, hour, ac_type, domain = NonNegativeIntegers)\n",
    "park_ac = model.park_ac"
   ]
  },
  {
   "cell_type": "markdown",
   "id": "262f5233",
   "metadata": {},
   "source": [
    "# 5. Constraints"
   ]
  },
  {
   "cell_type": "markdown",
   "id": "172dd751",
   "metadata": {},
   "source": [
    "## 5.1. Balance constraints"
   ]
  },
  {
   "cell_type": "markdown",
   "id": "0485aa50",
   "metadata": {},
   "source": [
    "Tại mỗi mốc thời gian, số tàu đậu đỗ theo từng loại tàu của mỗi mốc thời gian + số tàu bay hạ cánh phải tương đương với số tàu đậu đỗ của mốc thời gian kế tiếp + số tàu bay cất cánh (Node1 + inwards = Node2 + outwards). Ngoài ra, để đảm bảo giả định sản phẩm tần suất các tuần giống nhau, time node cuối cùng trong tuần (23h Chủ Nhật) phải balance với node đầu tiên trong tuần (0h Thứ Hai)."
   ]
  },
  {
   "cell_type": "code",
   "execution_count": 15,
   "id": "b7b26d4f",
   "metadata": {},
   "outputs": [],
   "source": [
    "def balance_constraint(model, a,d,h,ac):\n",
    "    # khung giờ đầu tiên của thứ hai phải cân bằng với khung giờ cuối cùng của chủ nhật\n",
    "    # (giả định sản phẩm tần suất của các tuần giống nhau)\n",
    "    if h == 0 and d == 1:\n",
    "        expr = (park_ac[a,d,h,ac] == \n",
    "                park_ac[a,7,23,ac]\n",
    "                +sum(assign_fleet[i] for i in data[\n",
    "                    (data['to'] == a)\n",
    "                    &(data['DOW'] == 7)\n",
    "                    &(data['ETA'].between(23,24,inclusive = 'left'))\n",
    "                    &(data['AC'] == ac)]['index'])\n",
    "                -sum(assign_fleet[i] for i in data[\n",
    "                    (data['from'] == a)\n",
    "                    &(data['DOW'] == 7)\n",
    "                    &(data['ETD'].between(23,24,inclusive = 'left'))\n",
    "                    &(data['AC'] == ac)]['index']))\n",
    "    # khung giờ đầu tiên trong ngày = khung giờ cuối cùng ngày hôm trước:\n",
    "    elif h == 0:\n",
    "        expr = (park_ac[a,d,h,ac] == \n",
    "                park_ac[a,d-1,23,ac]\n",
    "                +sum(assign_fleet[i] for i in data[\n",
    "                    (data['to'] == a)\n",
    "                    &(data['DOW'] == d-1)\n",
    "                    &(data['ETA'].between(23,24,inclusive = 'left'))\n",
    "                    &(data['AC'] == ac)]['index'])\n",
    "                -sum(assign_fleet[i] for i in data[\n",
    "                    (data['from'] == a)\n",
    "                    &(data['DOW'] == d-1)\n",
    "                    &(data['ETD'].between(23,24,inclusive = 'left'))\n",
    "                    &(data['AC'] == ac)]['index']))\n",
    "    # balance constraint cho các khung giờ trong 1 ngày:\n",
    "    else:\n",
    "        expr = (park_ac[a,d,h,ac] == \n",
    "                park_ac[a,d,h-1,ac]\n",
    "                +sum(assign_fleet[i] for i in data[\n",
    "                    (data['to'] == a)\n",
    "                    &(data['DOW'] == d)\n",
    "                    &(data['ETA'].between(h-1,h,inclusive = 'left'))\n",
    "                    &(data['AC'] == ac)]['index'])\n",
    "                -sum(assign_fleet[i] for i in data[\n",
    "                    (data['from'] == a)\n",
    "                    &(data['DOW'] == d)\n",
    "                    &(data['ETD'].between(h-1,h,inclusive = 'left'))\n",
    "                    &(data['AC'] == ac)]['index']))\n",
    "    return expr"
   ]
  },
  {
   "cell_type": "code",
   "execution_count": 16,
   "id": "e34914c7",
   "metadata": {},
   "outputs": [],
   "source": [
    "model.balance_constraint = pyo.Constraint(airport, DOW, hour, ac_type, rule = balance_constraint)"
   ]
  },
  {
   "cell_type": "markdown",
   "id": "d25cbf54",
   "metadata": {},
   "source": [
    "## 5.2. Coverage constraints"
   ]
  },
  {
   "cell_type": "markdown",
   "id": "34015a02",
   "metadata": {},
   "source": [
    "Mỗi 1 số hiệu chuyến bay chỉ được khai thác duy nhất 1 loại tàu bay trong ngày. (Vd: VN087 không thể khai thác đồng thời 321 và 787 tại cùng 1 ngày)."
   ]
  },
  {
   "cell_type": "code",
   "execution_count": 17,
   "id": "5aa910b9",
   "metadata": {},
   "outputs": [],
   "source": [
    "def coverage_constraint(model, f,d):\n",
    "    return sum(assign_fleet[i] for i in data[(data['flight']==f)&(data['DOW']==d)]['index']) == 1"
   ]
  },
  {
   "cell_type": "code",
   "execution_count": 18,
   "id": "db350a88",
   "metadata": {},
   "outputs": [],
   "source": [
    "model.coverage_constraint = pyo.Constraint(flight_no, DOW, rule = coverage_constraint)"
   ]
  },
  {
   "cell_type": "markdown",
   "id": "1c9ad8c1",
   "metadata": {},
   "source": [
    "## 5.3. Fleet constraints"
   ]
  },
  {
   "cell_type": "markdown",
   "id": "4b6a9b62",
   "metadata": {},
   "source": [
    "Tổng số tàu bay tại các sân bay trong từng khung giờ không được lớn hơn số tàu bay đã thuê mua."
   ]
  },
  {
   "cell_type": "code",
   "execution_count": 19,
   "id": "c57ec8ca",
   "metadata": {},
   "outputs": [],
   "source": [
    "def fleet_constraint(model, d,h,ac):\n",
    "    return pyo.inequality(0,sum(park_ac[a,d,h,ac] for a in airport),fleet[ac])"
   ]
  },
  {
   "cell_type": "code",
   "execution_count": 20,
   "id": "a0988edc",
   "metadata": {},
   "outputs": [],
   "source": [
    "model.fleet_constraint = pyo.Constraint(DOW, hour, ac_type, rule = fleet_constraint)"
   ]
  },
  {
   "cell_type": "markdown",
   "id": "a764eb90",
   "metadata": {},
   "source": [
    "## 5.4. Airport constraints"
   ]
  },
  {
   "cell_type": "markdown",
   "id": "a49b7e08",
   "metadata": {},
   "source": [
    "Một số đường bay chỉ dùng được tàu thân rộng, một số đường bay khác chỉ dùng được tàu AT7 do hạn chế về khoảng cách bay và cơ sở hạ tầng sân bay."
   ]
  },
  {
   "cell_type": "code",
   "execution_count": null,
   "id": "907f6b8d",
   "metadata": {},
   "outputs": [],
   "source": []
  },
  {
   "cell_type": "markdown",
   "id": "68a87acb",
   "metadata": {},
   "source": [
    "## 5.5. Product constraints"
   ]
  },
  {
   "cell_type": "markdown",
   "id": "b2ccd598",
   "metadata": {},
   "source": [
    "Để đảm bảo tính đồng nhất của sản phẩm, các chuyến bay quốc tế trên 1 đường bay phải sử dụng loại tàu bay giống nhau giữa các ngày trong tuần. "
   ]
  },
  {
   "cell_type": "code",
   "execution_count": null,
   "id": "57a77ef1",
   "metadata": {},
   "outputs": [],
   "source": [
    "#def product_constraint(model, f,ac):\n",
    "#    return sum(assign_fleet[i] for i in data[(data['flight']==f)&(data['AC']==ac)]['index'])"
   ]
  },
  {
   "cell_type": "code",
   "execution_count": null,
   "id": "c6603cae",
   "metadata": {},
   "outputs": [],
   "source": [
    "#model.product_constraint = pyo.Constraint(flight_no, ac_type, rule = fleet_constraint)"
   ]
  },
  {
   "cell_type": "markdown",
   "id": "1efb7559",
   "metadata": {},
   "source": [
    "# 6. Objective function"
   ]
  },
  {
   "cell_type": "code",
   "execution_count": 31,
   "id": "9f5383a2",
   "metadata": {},
   "outputs": [
    {
     "ename": "KeyError",
     "evalue": "0",
     "output_type": "error",
     "traceback": [
      "\u001b[1;31m---------------------------------------------------------------------------\u001b[0m",
      "\u001b[1;31mKeyError\u001b[0m                                  Traceback (most recent call last)",
      "\u001b[1;32m~\\Anaconda3\\lib\\site-packages\\pandas\\core\\indexes\\base.py\u001b[0m in \u001b[0;36mget_loc\u001b[1;34m(self, key, method, tolerance)\u001b[0m\n\u001b[0;32m   3360\u001b[0m             \u001b[1;32mtry\u001b[0m\u001b[1;33m:\u001b[0m\u001b[1;33m\u001b[0m\u001b[1;33m\u001b[0m\u001b[0m\n\u001b[1;32m-> 3361\u001b[1;33m                 \u001b[1;32mreturn\u001b[0m \u001b[0mself\u001b[0m\u001b[1;33m.\u001b[0m\u001b[0m_engine\u001b[0m\u001b[1;33m.\u001b[0m\u001b[0mget_loc\u001b[0m\u001b[1;33m(\u001b[0m\u001b[0mcasted_key\u001b[0m\u001b[1;33m)\u001b[0m\u001b[1;33m\u001b[0m\u001b[1;33m\u001b[0m\u001b[0m\n\u001b[0m\u001b[0;32m   3362\u001b[0m             \u001b[1;32mexcept\u001b[0m \u001b[0mKeyError\u001b[0m \u001b[1;32mas\u001b[0m \u001b[0merr\u001b[0m\u001b[1;33m:\u001b[0m\u001b[1;33m\u001b[0m\u001b[1;33m\u001b[0m\u001b[0m\n",
      "\u001b[1;32m~\\Anaconda3\\lib\\site-packages\\pandas\\_libs\\index.pyx\u001b[0m in \u001b[0;36mpandas._libs.index.IndexEngine.get_loc\u001b[1;34m()\u001b[0m\n",
      "\u001b[1;32m~\\Anaconda3\\lib\\site-packages\\pandas\\_libs\\index.pyx\u001b[0m in \u001b[0;36mpandas._libs.index.IndexEngine.get_loc\u001b[1;34m()\u001b[0m\n",
      "\u001b[1;32mpandas\\_libs\\hashtable_class_helper.pxi\u001b[0m in \u001b[0;36mpandas._libs.hashtable.Int64HashTable.get_item\u001b[1;34m()\u001b[0m\n",
      "\u001b[1;32mpandas\\_libs\\hashtable_class_helper.pxi\u001b[0m in \u001b[0;36mpandas._libs.hashtable.Int64HashTable.get_item\u001b[1;34m()\u001b[0m\n",
      "\u001b[1;31mKeyError\u001b[0m: 0",
      "\nThe above exception was the direct cause of the following exception:\n",
      "\u001b[1;31mKeyError\u001b[0m                                  Traceback (most recent call last)",
      "\u001b[1;32mC:\\Users\\NAMTRA~1\\AppData\\Local\\Temp/ipykernel_13756/1985668650.py\u001b[0m in \u001b[0;36m<module>\u001b[1;34m\u001b[0m\n\u001b[1;32m----> 1\u001b[1;33m model.obj = pyo.Objective(expr = (sum(assign_fleet[i]*data[data['index']==i]['revenue'][0] for i in flight_index)\n\u001b[0m\u001b[0;32m      2\u001b[0m                           -sum(assign_fleet[i]*data[data['index']==i]['cost'][0] for i in flight_index)), sense = pyo.maximize)\n",
      "\u001b[1;32mC:\\Users\\NAMTRA~1\\AppData\\Local\\Temp/ipykernel_13756/1985668650.py\u001b[0m in \u001b[0;36m<genexpr>\u001b[1;34m(.0)\u001b[0m\n\u001b[1;32m----> 1\u001b[1;33m model.obj = pyo.Objective(expr = (sum(assign_fleet[i]*data[data['index']==i]['revenue'][0] for i in flight_index)\n\u001b[0m\u001b[0;32m      2\u001b[0m                           -sum(assign_fleet[i]*data[data['index']==i]['cost'][0] for i in flight_index)), sense = pyo.maximize)\n",
      "\u001b[1;32m~\\Anaconda3\\lib\\site-packages\\pandas\\core\\series.py\u001b[0m in \u001b[0;36m__getitem__\u001b[1;34m(self, key)\u001b[0m\n\u001b[0;32m    940\u001b[0m \u001b[1;33m\u001b[0m\u001b[0m\n\u001b[0;32m    941\u001b[0m         \u001b[1;32melif\u001b[0m \u001b[0mkey_is_scalar\u001b[0m\u001b[1;33m:\u001b[0m\u001b[1;33m\u001b[0m\u001b[1;33m\u001b[0m\u001b[0m\n\u001b[1;32m--> 942\u001b[1;33m             \u001b[1;32mreturn\u001b[0m \u001b[0mself\u001b[0m\u001b[1;33m.\u001b[0m\u001b[0m_get_value\u001b[0m\u001b[1;33m(\u001b[0m\u001b[0mkey\u001b[0m\u001b[1;33m)\u001b[0m\u001b[1;33m\u001b[0m\u001b[1;33m\u001b[0m\u001b[0m\n\u001b[0m\u001b[0;32m    943\u001b[0m \u001b[1;33m\u001b[0m\u001b[0m\n\u001b[0;32m    944\u001b[0m         \u001b[1;32mif\u001b[0m \u001b[0mis_hashable\u001b[0m\u001b[1;33m(\u001b[0m\u001b[0mkey\u001b[0m\u001b[1;33m)\u001b[0m\u001b[1;33m:\u001b[0m\u001b[1;33m\u001b[0m\u001b[1;33m\u001b[0m\u001b[0m\n",
      "\u001b[1;32m~\\Anaconda3\\lib\\site-packages\\pandas\\core\\series.py\u001b[0m in \u001b[0;36m_get_value\u001b[1;34m(self, label, takeable)\u001b[0m\n\u001b[0;32m   1049\u001b[0m \u001b[1;33m\u001b[0m\u001b[0m\n\u001b[0;32m   1050\u001b[0m         \u001b[1;31m# Similar to Index.get_value, but we do not fall back to positional\u001b[0m\u001b[1;33m\u001b[0m\u001b[1;33m\u001b[0m\u001b[0m\n\u001b[1;32m-> 1051\u001b[1;33m         \u001b[0mloc\u001b[0m \u001b[1;33m=\u001b[0m \u001b[0mself\u001b[0m\u001b[1;33m.\u001b[0m\u001b[0mindex\u001b[0m\u001b[1;33m.\u001b[0m\u001b[0mget_loc\u001b[0m\u001b[1;33m(\u001b[0m\u001b[0mlabel\u001b[0m\u001b[1;33m)\u001b[0m\u001b[1;33m\u001b[0m\u001b[1;33m\u001b[0m\u001b[0m\n\u001b[0m\u001b[0;32m   1052\u001b[0m         \u001b[1;32mreturn\u001b[0m \u001b[0mself\u001b[0m\u001b[1;33m.\u001b[0m\u001b[0mindex\u001b[0m\u001b[1;33m.\u001b[0m\u001b[0m_get_values_for_loc\u001b[0m\u001b[1;33m(\u001b[0m\u001b[0mself\u001b[0m\u001b[1;33m,\u001b[0m \u001b[0mloc\u001b[0m\u001b[1;33m,\u001b[0m \u001b[0mlabel\u001b[0m\u001b[1;33m)\u001b[0m\u001b[1;33m\u001b[0m\u001b[1;33m\u001b[0m\u001b[0m\n\u001b[0;32m   1053\u001b[0m \u001b[1;33m\u001b[0m\u001b[0m\n",
      "\u001b[1;32m~\\Anaconda3\\lib\\site-packages\\pandas\\core\\indexes\\base.py\u001b[0m in \u001b[0;36mget_loc\u001b[1;34m(self, key, method, tolerance)\u001b[0m\n\u001b[0;32m   3361\u001b[0m                 \u001b[1;32mreturn\u001b[0m \u001b[0mself\u001b[0m\u001b[1;33m.\u001b[0m\u001b[0m_engine\u001b[0m\u001b[1;33m.\u001b[0m\u001b[0mget_loc\u001b[0m\u001b[1;33m(\u001b[0m\u001b[0mcasted_key\u001b[0m\u001b[1;33m)\u001b[0m\u001b[1;33m\u001b[0m\u001b[1;33m\u001b[0m\u001b[0m\n\u001b[0;32m   3362\u001b[0m             \u001b[1;32mexcept\u001b[0m \u001b[0mKeyError\u001b[0m \u001b[1;32mas\u001b[0m \u001b[0merr\u001b[0m\u001b[1;33m:\u001b[0m\u001b[1;33m\u001b[0m\u001b[1;33m\u001b[0m\u001b[0m\n\u001b[1;32m-> 3363\u001b[1;33m                 \u001b[1;32mraise\u001b[0m \u001b[0mKeyError\u001b[0m\u001b[1;33m(\u001b[0m\u001b[0mkey\u001b[0m\u001b[1;33m)\u001b[0m \u001b[1;32mfrom\u001b[0m \u001b[0merr\u001b[0m\u001b[1;33m\u001b[0m\u001b[1;33m\u001b[0m\u001b[0m\n\u001b[0m\u001b[0;32m   3364\u001b[0m \u001b[1;33m\u001b[0m\u001b[0m\n\u001b[0;32m   3365\u001b[0m         \u001b[1;32mif\u001b[0m \u001b[0mis_scalar\u001b[0m\u001b[1;33m(\u001b[0m\u001b[0mkey\u001b[0m\u001b[1;33m)\u001b[0m \u001b[1;32mand\u001b[0m \u001b[0misna\u001b[0m\u001b[1;33m(\u001b[0m\u001b[0mkey\u001b[0m\u001b[1;33m)\u001b[0m \u001b[1;32mand\u001b[0m \u001b[1;32mnot\u001b[0m \u001b[0mself\u001b[0m\u001b[1;33m.\u001b[0m\u001b[0mhasnans\u001b[0m\u001b[1;33m:\u001b[0m\u001b[1;33m\u001b[0m\u001b[1;33m\u001b[0m\u001b[0m\n",
      "\u001b[1;31mKeyError\u001b[0m: 0"
     ]
    }
   ],
   "source": [
    "model.obj = pyo.Objective(expr = (sum(assign_fleet[i]*data[data['index']==i]['revenue'] for i in flight_index)\n",
    "                          -sum(assign_fleet[i]*data[data['index']==i]['cost'] for i in flight_index)), sense = pyo.maximize)"
   ]
  },
  {
   "cell_type": "code",
   "execution_count": 32,
   "id": "b0126b57",
   "metadata": {},
   "outputs": [
    {
     "data": {
      "text/plain": [
       "66.77857315"
      ]
     },
     "execution_count": 32,
     "metadata": {},
     "output_type": "execute_result"
    }
   ],
   "source": [
    "data[data['index']=='0V8002AT71']['cost'][0]"
   ]
  },
  {
   "cell_type": "code",
   "execution_count": null,
   "id": "5c62554c",
   "metadata": {},
   "outputs": [],
   "source": []
  }
 ],
 "metadata": {
  "kernelspec": {
   "display_name": "Python 3 (ipykernel)",
   "language": "python",
   "name": "python3"
  },
  "language_info": {
   "codemirror_mode": {
    "name": "ipython",
    "version": 3
   },
   "file_extension": ".py",
   "mimetype": "text/x-python",
   "name": "python",
   "nbconvert_exporter": "python",
   "pygments_lexer": "ipython3",
   "version": "3.9.7"
  }
 },
 "nbformat": 4,
 "nbformat_minor": 5
}
